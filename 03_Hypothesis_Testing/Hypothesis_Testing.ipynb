{
  "cells": [
    {
      "cell_type": "markdown",
      "metadata": {
        "id": "view-in-github",
        "colab_type": "text"
      },
      "source": [
        "<a href=\"https://colab.research.google.com/github/e-abtahi/Statistical_Analysis_Portfolio/blob/main/03_Hypothesis_Testing/Hypothesis_Testing.ipynb\" target=\"_parent\"><img src=\"https://colab.research.google.com/assets/colab-badge.svg\" alt=\"Open In Colab\"/></a>"
      ]
    },
    {
      "cell_type": "markdown",
      "metadata": {
        "id": "na3XXQqwxk4n"
      },
      "source": [
        "# **Concepts Covered:**\n",
        "\n",
        "- <a href = #link4>Hypothesis Test for Population Mean $\\mu$</a>\n",
        "- <a href = #link5>One-tailed and Two-tailed Tests</a>\n",
        "- <a href = #link6>One Sample T-test for Population Mean $\\mu$</a>\n",
        "- <a href = #link7>Two Independent Sample Z-test for Equality of Means</a>\n",
        "- <a href = #link8>Two Independent Sample T-test for Equality of Means - Equal Std Dev</a>\n",
        "- <a href = #link9>Two Independent Sample T-test for Equality of Means - Unequal Std Dev</a>\n",
        "- <a href = #link10>One Proportion Z-test</a>\n",
        "- <a href = #link11>Two Proportion Z-test</a>\n",
        "- <a href = #link12>Chi-Square Test for Variance</a>\n",
        "- <a href = #link13>F-test for Equality of Variances</a>\n",
        "- <a href = #link14>Chi-Square Test for Independence</a>\n",
        "- <a href = #link15>One-way Anova Test</a>\n",
        "\n",
        "\n",
        "\n",
        "\n",
        "\n",
        "\n",
        "\n",
        "\n",
        "\n"
      ]
    },
    {
      "cell_type": "markdown",
      "metadata": {
        "id": "3fVgYRF6u56G"
      },
      "source": [
        "## Command to install the latest version Scipy in the system"
      ]
    },
    {
      "cell_type": "code",
      "execution_count": 1,
      "metadata": {
        "colab": {
          "base_uri": "https://localhost:8080/"
        },
        "id": "-_O_FDdmu56H",
        "outputId": "22fb766e-8e33-4d92-840d-54e9e58f5e76"
      },
      "outputs": [
        {
          "output_type": "stream",
          "name": "stdout",
          "text": [
            "Collecting scipy==1.6.1\n",
            "  Downloading scipy-1.6.1.tar.gz (27.3 MB)\n",
            "\u001b[2K     \u001b[90m━━━━━━━━━━━━━━━━━━━━━━━━━━━━━━━━━━━━━━━━\u001b[0m \u001b[32m27.3/27.3 MB\u001b[0m \u001b[31m23.5 MB/s\u001b[0m eta \u001b[36m0:00:00\u001b[0m\n",
            "\u001b[?25h  Installing build dependencies ... \u001b[?25l\u001b[?25hdone\n",
            "  Getting requirements to build wheel ... \u001b[?25l\u001b[?25hdone\n",
            "  Preparing metadata (pyproject.toml) ... \u001b[?25l\u001b[?25hdone\n",
            "Requirement already satisfied: numpy>=1.16.5 in /usr/local/lib/python3.10/dist-packages (from scipy==1.6.1) (1.23.5)\n",
            "Building wheels for collected packages: scipy\n",
            "  Building wheel for scipy (pyproject.toml) ... \u001b[?25l\u001b[?25hcanceled\u001b[31mERROR: Operation cancelled by user\u001b[0m\u001b[31m\n",
            "\u001b[0m"
          ]
        }
      ],
      "source": [
        "!pip install scipy==1.6.1"
      ]
    },
    {
      "cell_type": "code",
      "execution_count": 2,
      "metadata": {
        "colab": {
          "base_uri": "https://localhost:8080/",
          "height": 35
        },
        "id": "adhyZ1U-u56I",
        "outputId": "248d2dc9-bc70-4af6-a670-cbf64b6fc15e"
      },
      "outputs": [
        {
          "output_type": "execute_result",
          "data": {
            "text/plain": [
              "'1.11.4'"
            ],
            "application/vnd.google.colaboratory.intrinsic+json": {
              "type": "string"
            }
          },
          "metadata": {},
          "execution_count": 2
        }
      ],
      "source": [
        "import scipy\n",
        "scipy.__version__"
      ]
    },
    {
      "cell_type": "markdown",
      "metadata": {
        "id": "rVUF4De4u56I"
      },
      "source": [
        "## Import the required packages"
      ]
    },
    {
      "cell_type": "code",
      "execution_count": 3,
      "metadata": {
        "id": "n1269wHJF96t"
      },
      "outputs": [],
      "source": [
        "#import the important packages\n",
        "import pandas as pd #library used for data manipulation and analysis\n",
        "import numpy as np # library used for working with arrays.\n",
        "import matplotlib.pyplot as plt # library for plots and visualisations\n",
        "import seaborn as sns # library for visualisations\n",
        "%matplotlib inline\n",
        "\n",
        "import scipy.stats as stats # this library contains a large number of probability distributions as well as a growing library of statistical functions."
      ]
    },
    {
      "cell_type": "markdown",
      "metadata": {
        "id": "HHhcxblrCPQs"
      },
      "source": [
        "\n",
        "# <a name='link4'>**Hypothesis Test for Population Mean $\\mu$**</a>\n",
        "\n"
      ]
    },
    {
      "cell_type": "markdown",
      "metadata": {
        "id": "imkkvBHLCr1p"
      },
      "source": [
        "### One Sample Z-test (when population standard deviation is known)\n",
        "\n",
        "It is rarely the case when you know the population standard deviation and not the mean.....but let's assume that is the case"
      ]
    },
    {
      "cell_type": "markdown",
      "metadata": {
        "id": "JFYmMSXAD5r8"
      },
      "source": [
        "It is known from experience that for a certain E-commerce company the mean delivery time of the products is 5 days with a standard deviation of 1.3 days.\n",
        "\n",
        "The new customer service manager of the company is afraid that the company is slipping and collects a random sample of 45 orders. The mean delivery time of these samples comes out to be 5.25 days.\n",
        "\n",
        "Is there enough statistical evidence for the manager’s apprehension that the mean delivery time of products is greater than 5 days.\n",
        "\n",
        "Use level of significance $\\alpha$ = 0.05"
      ]
    },
    {
      "cell_type": "markdown",
      "metadata": {
        "id": "f5_ECLi6YZA2"
      },
      "source": [
        "### Let's write the null and alternate hypotheses"
      ]
    },
    {
      "cell_type": "markdown",
      "metadata": {
        "id": "UjzLRZUjSLig"
      },
      "source": [
        "Let $\\mu$ be the mean delivery time of the products.\n",
        "\n",
        "The manager will test the null hypothesis\n",
        "\n",
        ">$H_0: \\mu = 5$\n",
        "\n",
        "against the alternate hypothesis\n",
        "\n",
        "> $H_a: \\mu > 5$"
      ]
    },
    {
      "cell_type": "markdown",
      "metadata": {
        "id": "Za3CtsidYe2a"
      },
      "source": [
        "### Are the assumptions of Z-test satisfied?"
      ]
    },
    {
      "cell_type": "markdown",
      "metadata": {
        "id": "uZEqFhp8V99Y"
      },
      "source": [
        "*   Samples are drawn from a normal distribution - Since the sample size is 45(which is > 30), Central Limit Theorem states that the distribution of sample means will be normal. If the sample size was less than 30, we would have been able to apply z test on if we knew that the population distribution was normal.  \n",
        "*   Observations are from a simple random sample - we are informed that the manager collected a simple random sample\n",
        "*   Standard deviation is known - Yes\n",
        "\n",
        "\n",
        "Voila! We can use Z-test for this problem."
      ]
    },
    {
      "cell_type": "markdown",
      "metadata": {
        "id": "vI7uRPYSZDAv"
      },
      "source": [
        "### The next step is to find the Z test statistic\n",
        "\n",
        "\n"
      ]
    },
    {
      "cell_type": "code",
      "execution_count": 4,
      "metadata": {
        "colab": {
          "base_uri": "https://localhost:8080/"
        },
        "id": "g03yfFvoV08J",
        "outputId": "bb6655a1-3400-4a06-9589-18a6c5131bcc"
      },
      "outputs": [
        {
          "output_type": "execute_result",
          "data": {
            "text/plain": [
              "1.2900392177883402"
            ]
          },
          "metadata": {},
          "execution_count": 4
        }
      ],
      "source": [
        "# set the values of population mean and population standard deviation to 5 and 1.3 respectively\n",
        "mu, sigma = 5, 1.3\n",
        "\n",
        "# set the value sample mean to 5.25\n",
        "x_bar = 5.25\n",
        "\n",
        "# calculate the test statistic\n",
        "test_stat = (x_bar - mu) / (sigma/np.sqrt(45))\n",
        "test_stat"
      ]
    },
    {
      "cell_type": "markdown",
      "metadata": {
        "id": "ddz-nxAuaQl1"
      },
      "source": [
        "#### The Z test statistic follows a standard normal distribution.\n",
        "\n",
        "Let's plot the distribution of the Z test statistic and see where the computed test statistic lies in the plot."
      ]
    },
    {
      "cell_type": "code",
      "execution_count": 5,
      "metadata": {
        "colab": {
          "base_uri": "https://localhost:8080/",
          "height": 430
        },
        "id": "mKW-GHiZa6DE",
        "outputId": "fcd2443c-f474-4cb1-a4f4-c5fbb63c66d8"
      },
      "outputs": [
        {
          "output_type": "display_data",
          "data": {
            "text/plain": [
              "<Figure size 640x480 with 1 Axes>"
            ],
            "image/png": "[encoded data removed]"
          },
          "metadata": {}
        }
      ],
      "source": [
        "# import the required function\n",
        "from scipy.stats import norm\n",
        "\n",
        "# plotting the distribution of Z test statistic along with the test statistic\n",
        "# We are plotting the distributions here to better visualize the calculations\n",
        "x = np.linspace(-4, 4, 100)\n",
        "plt.plot(x, norm.pdf(x, 0, 1))\n",
        "plt.axvline(x = test_stat, c = 'r')\n",
        "plt.show()"
      ]
    },
    {
      "cell_type": "markdown",
      "metadata": {
        "id": "2RoCBWfad8yi"
      },
      "source": [
        "What is the probability of getting the calculated value of test statistic or bigger in the above distribution?"
      ]
    },
    {
      "cell_type": "code",
      "execution_count": 6,
      "metadata": {
        "colab": {
          "base_uri": "https://localhost:8080/"
        },
        "id": "P-sbsv2ued1d",
        "outputId": "5ca354fb-f31c-41fc-b9f7-44692c238ffb"
      },
      "outputs": [
        {
          "output_type": "execute_result",
          "data": {
            "text/plain": [
              "0.09851852092578695"
            ]
          },
          "metadata": {},
          "execution_count": 6
        }
      ],
      "source": [
        "1 - norm.cdf(test_stat)"
      ]
    },
    {
      "cell_type": "markdown",
      "metadata": {
        "id": "0b-uXxQZNS4e"
      },
      "source": [
        "**Though the probability is very small, is it significant enough to reject the null hypothesis in favour of alternate hypothesis?**"
      ]
    },
    {
      "cell_type": "markdown",
      "metadata": {
        "id": "sVtMAHgbg1Ut"
      },
      "source": [
        "### Introduction of Rejection Acceptance Region/ p-value"
      ]
    },
    {
      "cell_type": "markdown",
      "metadata": {
        "id": "xqqUout3gNK8"
      },
      "source": [
        "Though the probability is small, we can not conclude whether the evidence is significant enough to reject the null hypothesis in favour of alternate hypothesis or not. To determine it, we use either one of the following approaches:\n",
        "\n",
        "1- Rejection region approach\n",
        "\n",
        "2- p-value approach"
      ]
    },
    {
      "cell_type": "markdown",
      "metadata": {
        "id": "4dihfsGeO-RR"
      },
      "source": [
        "#### Rejection Region Approach\n",
        "\n",
        "For this approach, we need to follow the below steps.\n",
        "\n",
        "\n",
        "1.   We choose a value of level of significance ($\\alpha$).\n",
        "\n",
        "     ($\\alpha$ is the probability of rejecting the null hypothesis if it is true.)\n",
        "\n",
        "2.   Then, we find the rejection region in the graph.\n",
        "\n",
        "3.   We reject the null hypothesis if the test statistic falls in the rejection region. Else, we don't reject the null hypothesis.\n",
        "\n",
        "In the given example, the Z test statistic follows a standard normal distribution as shown in the above plot. The Z values lying in the right end of the distribution gives strong evidence against the null hypothesis. To find the rejection region, we will find the value of Z (called critical value) that gives an area of $\\alpha$ to the right end."
      ]
    },
    {
      "cell_type": "code",
      "execution_count": 7,
      "metadata": {
        "colab": {
          "base_uri": "https://localhost:8080/"
        },
        "id": "o_ITvMpZXLyI",
        "outputId": "e8a204f2-5251-403c-a9d0-75f9877d3e0e"
      },
      "outputs": [
        {
          "output_type": "execute_result",
          "data": {
            "text/plain": [
              "1.6448536269514722"
            ]
          },
          "metadata": {},
          "execution_count": 7
        }
      ],
      "source": [
        "# import the required function\n",
        "from scipy.stats import norm\n",
        "\n",
        "# find the critical value\n",
        "critical_val = norm.ppf(1-.05)\n",
        "critical_val"
      ]
    },
    {
      "cell_type": "markdown",
      "metadata": {
        "id": "pj41yWnjYKZl"
      },
      "source": [
        "The critical value separates the region where we will reject the null hypothesis from the region where we won't reject the null hypothesis. See the below plot."
      ]
    },
    {
      "cell_type": "code",
      "execution_count": 8,
      "metadata": {
        "colab": {
          "base_uri": "https://localhost:8080/",
          "height": 430
        },
        "id": "3PUG_qdLYr64",
        "outputId": "f46478bc-7251-425f-a739-9c54d13d17a5"
      },
      "outputs": [
        {
          "output_type": "display_data",
          "data": {
            "text/plain": [
              "<Figure size 640x480 with 1 Axes>"
            ],
            "image/png": "[encoded data removed]"
          },
          "metadata": {}
        }
      ],
      "source": [
        "# plotting the test statistic distribution and indicating the rejection and acceptance region\n",
        "# We are plotting the distributions here to better visualize the calculations\n",
        "x = np.linspace(-4, 4, 100)\n",
        "plt.plot(x, norm.pdf(x, 0, 1))\n",
        "plt.axvline(x = critical_val, c = 'r')\n",
        "x1 = np.linspace(critical_val, 4, 50)\n",
        "plt.fill_between(x1, norm.pdf(x1, 0, 1), color='r')\n",
        "plt.annotate('Reject Null', (2, 0.20))\n",
        "plt.annotate('  Do Not Reject\\n        Null', (-1, 0.20))\n",
        "plt.show()"
      ]
    },
    {
      "cell_type": "markdown",
      "metadata": {
        "id": "mhRuynC6bRcV"
      },
      "source": [
        "### Insight\n",
        "\n",
        "As our test statistic (~ 1.29) does not lie in the rejection region, we can not reject the null hypothesis. Thus, we do not have statistical evidence to say that the mean delivery time of a product is greater than 5 days."
      ]
    },
    {
      "cell_type": "markdown",
      "metadata": {
        "id": "M__QsfhvzQdO"
      },
      "source": [
        "#### p-value Approach\n",
        "\n",
        "Though the rejection region approach gives us the desired conclusion, it does not say anything about the strength of the evidence. Hence, statisticians prefer p-value approach which measures the strength of the evidence against the null hypothesis.\n",
        "\n",
        "For this approach, we need to follow the below steps.\n",
        "\n",
        "1. We choose a level of significance ($\\alpha$)\n",
        "\n",
        "2. Then, we calculate the p-value.\n",
        "\n",
        "3. We reject the null hypothesis if p-value $\\leq \\alpha$. Else, we fail to reject the null hypothesis.\n",
        "\n",
        "The p-value is the probability of finding the observed test statistic or more extreme results, under the null hypothesis.\n",
        "\n",
        "In the given example, p-value is the area right to the test statistic under the standard normal curve.\n"
      ]
    },
    {
      "cell_type": "code",
      "execution_count": 9,
      "metadata": {
        "colab": {
          "base_uri": "https://localhost:8080/",
          "height": 430
        },
        "id": "au3_jODY1cYb",
        "outputId": "ff8fe9e8-4257-4173-97d2-3143394e3428"
      },
      "outputs": [
        {
          "output_type": "display_data",
          "data": {
            "text/plain": [
              "<Figure size 640x480 with 1 Axes>"
            ],
            "image/png": "[encoded data removed]"
          },
          "metadata": {}
        }
      ],
      "source": [
        "# plotting the test statistic distribution along with computed test statistic\n",
        "# We are plotting the distributions here to better visualize the calculations\n",
        "x = np.linspace(-4, 4, 100)\n",
        "plt.plot(x, norm.pdf(x, 0, 1))\n",
        "plt.axvline(x = test_stat, c = 'r')\n",
        "x1 = np.linspace(test_stat, 4, 50)\n",
        "plt.fill_between(x1, norm.pdf(x1, 0, 1), color='r')\n",
        "plt.show()"
      ]
    },
    {
      "cell_type": "code",
      "execution_count": 10,
      "metadata": {
        "colab": {
          "base_uri": "https://localhost:8080/"
        },
        "id": "Z6-VOxQqfOBF",
        "outputId": "289689d4-6eb7-48a2-cce3-528c03d5725a"
      },
      "outputs": [
        {
          "output_type": "execute_result",
          "data": {
            "text/plain": [
              "0.09851852092578695"
            ]
          },
          "metadata": {},
          "execution_count": 10
        }
      ],
      "source": [
        "# calculate the p-value\n",
        "1 - norm.cdf(test_stat)"
      ]
    },
    {
      "cell_type": "markdown",
      "metadata": {
        "id": "3QCb1bK6gUTA"
      },
      "source": [
        "### Insight\n",
        "\n",
        "As the p-value ~0.098 is greater than level of significance, we can not reject the null hypothesis. Thus, we do not have statistical evidence to say that the mean delivery time of a product is greater than 5 days."
      ]
    },
    {
      "cell_type": "markdown",
      "metadata": {
        "id": "noTA34C4hkyx"
      },
      "source": [
        "### Key Takeaway\n",
        "\n",
        "* We get the same result by using both the Rejection Region and p-value approach that the manager does not have enough statistical evidence to say that the mean delivery time of a product is greater than 5 days."
      ]
    },
    {
      "cell_type": "markdown",
      "metadata": {
        "id": "POB5EwDV5vAS"
      },
      "source": [
        "# <a name='link5'>**One-tailed and Two-tailed Tests**</a>"
      ]
    },
    {
      "cell_type": "markdown",
      "metadata": {
        "id": "WiaDWDy1666u"
      },
      "source": [
        "### Let's see an example\n",
        "\n",
        "Suppose a soft-drink manufacturer's most selling product is 600 ml coke with a standard deviation of 50 ml.\n",
        "\n",
        "A customer would like to test whether there is at least 600 ml coke in the bottle. He doubts that the amount of coke in the bottle is less than 600 ml.\n",
        "\n",
        "The null hypothesis formed by the customer is\n",
        "\n",
        ">$H_0: \\mu = 600$\n",
        "\n",
        "against the alternative hypothesis\n",
        "\n",
        "> $H_a: \\mu < 600$\n",
        "\n",
        "However, the quality control team wants exactly 600 ml coke in the bottle. The team wants to ensure that the amount of coke in the bottle is not different from 600 ml.\n",
        "\n",
        "The null hypothesis formed by the quality control team is\n",
        "\n",
        ">$H_0: \\mu = 600$\n",
        "\n",
        "against the alternative hypothesis\n",
        "\n",
        "> $H_a: \\mu \\neq 600$\n",
        "\n",
        "Thus, the choice of one-sided vs two-sided alternative hypothesis depends on the nature of the problem."
      ]
    },
    {
      "cell_type": "markdown",
      "metadata": {
        "id": "GWUkM0LrCzSu"
      },
      "source": [
        "### Two-tailed Test Example\n",
        "\n",
        "Suppose you work on the quality control team of the company. It is known from experience that the mean amount of coke in a bottle is 600 ml with a standard deviation of 50 ml.\n",
        "\n",
        "You have collected 36 randomly sampled bottles. The mean amount of coke in the 36 samples is 580 ml.\n",
        "\n",
        "You intend to test whether the amount of coke in the bottle is different from 600 ml using 0.05 level of significance. Do you have enough Statistical evidence for it?"
      ]
    },
    {
      "cell_type": "markdown",
      "metadata": {
        "id": "kHPUcm3pryyd"
      },
      "source": [
        "### Are the assumptions of Z-test satisfied?"
      ]
    },
    {
      "cell_type": "markdown",
      "metadata": {
        "id": "_NP5DlMXr2gR"
      },
      "source": [
        "*   Samples are drawn from a normal distribution - Since the sample size is 36(which is > 30), Central Limit Theorem states that the distribution of sample means will be normal. If the sample size was less than 30, we would have been able to apply Z test on if we knew that the population distribution was normal.  \n",
        "*   Observations are from a simple random sample - we are informed that you have collected a simple random sample.\n",
        "*   Standard deviation is known - Yes\n",
        "\n",
        "\n",
        "Voila! We can use Z-test for this problem."
      ]
    },
    {
      "cell_type": "markdown",
      "metadata": {
        "id": "DouBcnk2siNr"
      },
      "source": [
        "### The next step is to find the test statistic"
      ]
    },
    {
      "cell_type": "code",
      "execution_count": 11,
      "metadata": {
        "colab": {
          "base_uri": "https://localhost:8080/"
        },
        "id": "QZaRvsFXsqFm",
        "outputId": "22e3896c-7be3-4ff0-e50e-b09ac87650fa"
      },
      "outputs": [
        {
          "output_type": "execute_result",
          "data": {
            "text/plain": [
              "-2.4"
            ]
          },
          "metadata": {},
          "execution_count": 11
        }
      ],
      "source": [
        "# set the values of population mean and standard deviation to 600 and 50 respectively\n",
        "mu, sigma = 600, 50\n",
        "\n",
        "# set the value sample mean to 580\n",
        "x_bar = 580\n",
        "\n",
        "# calculate the test statistic\n",
        "test_stat = (x_bar - mu) / (sigma/np.sqrt(36))\n",
        "test_stat"
      ]
    },
    {
      "cell_type": "markdown",
      "metadata": {
        "id": "z25Pi6HhtLNu"
      },
      "source": [
        "### Let's use the rejection region approach for two-tailed test\n",
        "\n",
        "In the given example, the Z test statistic follows a standard normal distribution. The Z values lying in the left and right end of the distribution gives strong evidence against the null hypothesis. To find the rejection region, we will find the values of Z (called critical values) that give an area of $\\alpha/2$ to both the left and right end."
      ]
    },
    {
      "cell_type": "code",
      "execution_count": 12,
      "metadata": {
        "colab": {
          "base_uri": "https://localhost:8080/",
          "height": 430
        },
        "id": "7PGKmNzjuolm",
        "outputId": "ffda5207-0f42-437d-ac5c-2784c4a78ea2"
      },
      "outputs": [
        {
          "output_type": "display_data",
          "data": {
            "text/plain": [
              "<Figure size 640x480 with 1 Axes>"
            ],
            "image/png": "[encoded data removed]"
          },
          "metadata": {}
        }
      ],
      "source": [
        "# import the required function\n",
        "from scipy.stats import norm\n",
        "\n",
        "# find the critical values\n",
        "critical_val1 = norm.ppf(1-(0.05/2))\n",
        "critical_val2 = norm.ppf(0.05/2)\n",
        "\n",
        "# plot the rejection and acceptance region\n",
        "# We are plotting the distributions here to better visualize the calculations\n",
        "x = np.linspace(-4, 4, 100)\n",
        "plt.plot(x, norm.pdf(x, 0, 1))\n",
        "plt.axvline(x = critical_val1, c = 'r')\n",
        "x1 = np.linspace(critical_val1, 4, 50)\n",
        "plt.fill_between(x1, norm.pdf(x1, 0, 1), color='r')\n",
        "plt.axvline(x = critical_val2, c = 'r')\n",
        "x1 = np.linspace(-4, critical_val2, 50)\n",
        "plt.fill_between(x1, norm.pdf(x1, 0, 1), color='r')\n",
        "plt.annotate('Reject Null', (2.2, 0.20))\n",
        "plt.annotate('Reject Null', (-3.5, 0.20))\n",
        "plt.annotate('  Do Not Reject\\n        Null', (-1, 0.20))\n",
        "plt.show()"
      ]
    },
    {
      "cell_type": "markdown",
      "metadata": {
        "id": "1x0cXahOwHE8"
      },
      "source": [
        "As our test statistic (~-2.4) lies in the rejection region, we can reject the null hypothesis. Thus, we have enough statistical evidence to say that the amount of coke in the bottle is different from 600 ml."
      ]
    },
    {
      "cell_type": "markdown",
      "metadata": {
        "id": "9zzkUpjHPn_c"
      },
      "source": [
        "### One-tailed Test Example\n",
        "\n",
        "It is known that the mean amount of coke in a bottle is 600 ml with a standard deviation of 50 ml. Suppose you are a customer who wants to test whether the amount of coke in the bottle is less than 600 ml.\n",
        "\n",
        "You have collected 36 randomly sampled bottles. The mean amount of coke in the 36 samples is 580 ml.\n",
        "\n",
        "Do you have enough Statistical evidence for it?"
      ]
    },
    {
      "cell_type": "markdown",
      "metadata": {
        "id": "vacq1cbrQH76"
      },
      "source": [
        "### Are the assumptions of Z-test satisfied?\n",
        "*   Samples are drawn from a normal distribution - Since the sample size is 36(which is > 30), Central Limit Theorem states that the distribution of sample means will be normal. If the sample size was less than 30, we would have been able to apply Z test on if we knew that the population distribution was normal.  \n",
        "*   Observations are from a simple random sample - we are informed that you have collected a simple random sample.\n",
        "*   Standard deviation is known - Yes\n",
        "\n",
        "\n",
        "Voila! We can use Z-test for this problem."
      ]
    },
    {
      "cell_type": "markdown",
      "metadata": {
        "id": "9jeI1yRkRLN2"
      },
      "source": [
        "### The next step is to find the test statistic"
      ]
    },
    {
      "cell_type": "code",
      "execution_count": 13,
      "metadata": {
        "colab": {
          "base_uri": "https://localhost:8080/"
        },
        "id": "8dZr5lGzRS7R",
        "outputId": "74ebcf8d-78b2-4365-efa4-d344d9b0e31b"
      },
      "outputs": [
        {
          "output_type": "execute_result",
          "data": {
            "text/plain": [
              "-2.4"
            ]
          },
          "metadata": {},
          "execution_count": 13
        }
      ],
      "source": [
        "# set the values of population mean and standard deviation to 600 and 50 respectively\n",
        "mu, sigma = 600, 50\n",
        "\n",
        "# set the value sample mean to 580\n",
        "x_bar = 580\n",
        "\n",
        "# calculate the test statistic\n",
        "test_stat = (x_bar - mu) / (sigma/np.sqrt(36))\n",
        "test_stat"
      ]
    },
    {
      "cell_type": "markdown",
      "metadata": {
        "id": "BUIBHwkPRPCQ"
      },
      "source": [
        "### Let's use the rejection region approach for one-tailed test\n",
        "\n",
        "In the given example, the Z test statistic follows a standard normal distribution. The Z values lying in the left end of the distribution gives strong evidence against the null hypothesis. To find the rejection region, we will find the value of Z (called critical value) that give an area of $\\alpha$ to both the left end."
      ]
    },
    {
      "cell_type": "code",
      "execution_count": 14,
      "metadata": {
        "colab": {
          "base_uri": "https://localhost:8080/",
          "height": 430
        },
        "id": "IhhNBBsuRjLI",
        "outputId": "bcc7921f-935c-4afe-ef72-1549f5ecf9db"
      },
      "outputs": [
        {
          "output_type": "display_data",
          "data": {
            "text/plain": [
              "<Figure size 640x480 with 1 Axes>"
            ],
            "image/png": "[encoded data removed]"
          },
          "metadata": {}
        }
      ],
      "source": [
        "# import the required function\n",
        "from scipy.stats import norm\n",
        "\n",
        "# find the critical value\n",
        "critical_val = norm.ppf(0.05)\n",
        "\n",
        "# plot the rejection and acceptance region\n",
        "# We are plotting the distributions here to better visualize the calculations\n",
        "x = np.linspace(-4, 4, 100)\n",
        "plt.plot(x, norm.pdf(x, 0, 1))\n",
        "plt.axvline(x = critical_val, c = 'r')\n",
        "x1 = np.linspace(-4, critical_val, 50)\n",
        "plt.fill_between(x1, norm.pdf(x1, 0, 1), color='r')\n",
        "plt.annotate('Reject Null', (-3.5, 0.20))\n",
        "plt.annotate('  Do Not Reject\\n        Null', (-1, 0.20))\n",
        "plt.show()"
      ]
    },
    {
      "cell_type": "markdown",
      "metadata": {
        "id": "fanaSBpeS0yQ"
      },
      "source": [
        "As our test statistic (~-2.4) lies in the rejection region, we can reject the null hypothesis. Thus, we have enough statistical evidence to say that the amount of coke in the bottle is less than from 600 ml."
      ]
    },
    {
      "cell_type": "markdown",
      "metadata": {
        "id": "8Zf1FemQ4g9t"
      },
      "source": [
        "### Key Takeaways\n",
        "\n",
        "* In one-sided test, we consider the difference only in one direction. However, in two-sided tests we are interested to know the direction of the difference.\n",
        "* Depending on the nature of the problem choose one!"
      ]
    },
    {
      "cell_type": "markdown",
      "metadata": {
        "id": "54uwRjj0wK0t"
      },
      "source": [
        "# <a name='link6'>**One Sample T-test for Population Mean $\\mu$**</a>"
      ]
    },
    {
      "cell_type": "markdown",
      "metadata": {
        "id": "9lpoQOzkw9cb"
      },
      "source": [
        "### Let's revisit the example\n",
        "A certain food aggregator ZYX is facing stiff competition from its main rival SWG during Corona period. To retain business, ZYX is advertising that, within a radius of 5 km from the restaurant where the order is placed, it can still deliver in 40 minutes or less on the average (and changed condition has not made any impact on them).\n",
        "\n",
        "The delivery times in minutes of 25 randomly selected deliveries are given in a CSV file.\n",
        "\n",
        "Assuming the delivery distribution is approximately normal, is there enough evidence that ZYX’s claim is false?\n"
      ]
    },
    {
      "cell_type": "markdown",
      "metadata": {
        "id": "daSTqeX01t1b"
      },
      "source": [
        "### Let's write the null and alternative hypothesis\n",
        "Let $\\mu$ be the mean delivery time of the ZYX food aggregator.\n",
        "\n",
        "We will test the null hypothesis\n",
        "\n",
        ">$H_0:\\mu = 40$\n",
        "\n",
        "against the alternate hypothesis\n",
        "\n",
        ">$H_a:\\mu > 40$\n",
        "\n"
      ]
    },
    {
      "cell_type": "markdown",
      "metadata": {
        "id": "JhRo1Ebg2_1H"
      },
      "source": [
        "### Let's have a look on the sample data"
      ]
    },
    {
      "cell_type": "code",
      "execution_count": 16,
      "metadata": {
        "colab": {
          "base_uri": "https://localhost:8080/",
          "height": 224
        },
        "id": "jbZ2TScA3NNC",
        "outputId": "4ab04e12-9f2f-4706-95b0-6b4998b2703e"
      },
      "outputs": [
        {
          "output_type": "stream",
          "name": "stdout",
          "text": [
            "Mounted at /content/drive/\n"
          ]
        },
        {
          "output_type": "execute_result",
          "data": {
            "text/plain": [
              "   Delivery  Time\n",
              "0         1  39.4\n",
              "1         2  39.5\n",
              "2         3  39.7\n",
              "3         4  40.7\n",
              "4         5  40.4"
            ],
            "text/html": [
              "\n",
              "  <div id=\"df-630c86d2-850c-46ce-b4d1-3bbbea45df52\" class=\"colab-df-container\">\n",
              "    <div>\n",
              "<style scoped>\n",
              "    .dataframe tbody tr th:only-of-type {\n",
              "        vertical-align: middle;\n",
              "    }\n",
              "\n",
              "    .dataframe tbody tr th {\n",
              "        vertical-align: top;\n",
              "    }\n",
              "\n",
              "    .dataframe thead th {\n",
              "        text-align: right;\n",
              "    }\n",
              "</style>\n",
              "<table border=\"1\" class=\"dataframe\">\n",
              "  <thead>\n",
              "    <tr style=\"text-align: right;\">\n",
              "      <th></th>\n",
              "      <th>Delivery</th>\n",
              "      <th>Time</th>\n",
              "    </tr>\n",
              "  </thead>\n",
              "  <tbody>\n",
              "    <tr>\n",
              "      <th>0</th>\n",
              "      <td>1</td>\n",
              "      <td>39.4</td>\n",
              "    </tr>\n",
              "    <tr>\n",
              "      <th>1</th>\n",
              "      <td>2</td>\n",
              "      <td>39.5</td>\n",
              "    </tr>\n",
              "    <tr>\n",
              "      <th>2</th>\n",
              "      <td>3</td>\n",
              "      <td>39.7</td>\n",
              "    </tr>\n",
              "    <tr>\n",
              "      <th>3</th>\n",
              "      <td>4</td>\n",
              "      <td>40.7</td>\n",
              "    </tr>\n",
              "    <tr>\n",
              "      <th>4</th>\n",
              "      <td>5</td>\n",
              "      <td>40.4</td>\n",
              "    </tr>\n",
              "  </tbody>\n",
              "</table>\n",
              "</div>\n",
              "    <div class=\"colab-df-buttons\">\n",
              "\n",
              "  <div class=\"colab-df-container\">\n",
              "    <button class=\"colab-df-convert\" onclick=\"convertToInteractive('df-630c86d2-850c-46ce-b4d1-3bbbea45df52')\"\n",
              "            title=\"Convert this dataframe to an interactive table.\"\n",
              "            style=\"display:none;\">\n",
              "\n",
              "  <svg xmlns=\"http://www.w3.org/2000/svg\" height=\"24px\" viewBox=\"0 -960 960 960\">\n",
              "    <path d=\"M120-120v-720h720v720H120Zm60-500h600v-160H180v160Zm220 220h160v-160H400v160Zm0 220h160v-160H400v160ZM180-400h160v-160H180v160Zm440 0h160v-160H620v160ZM180-180h160v-160H180v160Zm440 0h160v-160H620v160Z\"/>\n",
              "  </svg>\n",
              "    </button>\n",
              "\n",
              "  <style>\n",
              "    .colab-df-container {\n",
              "      display:flex;\n",
              "      gap: 12px;\n",
              "    }\n",
              "\n",
              "    .colab-df-convert {\n",
              "      background-color: #E8F0FE;\n",
              "      border: none;\n",
              "      border-radius: 50%;\n",
              "      cursor: pointer;\n",
              "      display: none;\n",
              "      fill: #1967D2;\n",
              "      height: 32px;\n",
              "      padding: 0 0 0 0;\n",
              "      width: 32px;\n",
              "    }\n",
              "\n",
              "    .colab-df-convert:hover {\n",
              "      background-color: #E2EBFA;\n",
              "      box-shadow: 0px 1px 2px rgba(60, 64, 67, 0.3), 0px 1px 3px 1px rgba(60, 64, 67, 0.15);\n",
              "      fill: #174EA6;\n",
              "    }\n",
              "\n",
              "    .colab-df-buttons div {\n",
              "      margin-bottom: 4px;\n",
              "    }\n",
              "\n",
              "    [theme=dark] .colab-df-convert {\n",
              "      background-color: #3B4455;\n",
              "      fill: #D2E3FC;\n",
              "    }\n",
              "\n",
              "    [theme=dark] .colab-df-convert:hover {\n",
              "      background-color: #434B5C;\n",
              "      box-shadow: 0px 1px 3px 1px rgba(0, 0, 0, 0.15);\n",
              "      filter: drop-shadow(0px 1px 2px rgba(0, 0, 0, 0.3));\n",
              "      fill: #FFFFFF;\n",
              "    }\n",
              "  </style>\n",
              "\n",
              "    <script>\n",
              "      const buttonEl =\n",
              "        document.querySelector('#df-630c86d2-850c-46ce-b4d1-3bbbea45df52 button.colab-df-convert');\n",
              "      buttonEl.style.display =\n",
              "        google.colab.kernel.accessAllowed ? 'block' : 'none';\n",
              "\n",
              "      async function convertToInteractive(key) {\n",
              "        const element = document.querySelector('#df-630c86d2-850c-46ce-b4d1-3bbbea45df52');\n",
              "        const dataTable =\n",
              "          await google.colab.kernel.invokeFunction('convertToInteractive',\n",
              "                                                    [key], {});\n",
              "        if (!dataTable) return;\n",
              "\n",
              "        const docLinkHtml = 'Like what you see? Visit the ' +\n",
              "          '<a target=\"_blank\" href=https://colab.research.google.com/notebooks/data_table.ipynb>data table notebook</a>'\n",
              "          + ' to learn more about interactive tables.';\n",
              "        element.innerHTML = '';\n",
              "        dataTable['output_type'] = 'display_data';\n",
              "        await google.colab.output.renderOutput(dataTable, element);\n",
              "        const docLink = document.createElement('div');\n",
              "        docLink.innerHTML = docLinkHtml;\n",
              "        element.appendChild(docLink);\n",
              "      }\n",
              "    </script>\n",
              "  </div>\n",
              "\n",
              "\n",
              "<div id=\"df-36d420a7-c98d-438b-a2d0-93beef15d904\">\n",
              "  <button class=\"colab-df-quickchart\" onclick=\"quickchart('df-36d420a7-c98d-438b-a2d0-93beef15d904')\"\n",
              "            title=\"Suggest charts\"\n",
              "            style=\"display:none;\">\n",
              "\n",
              "<svg xmlns=\"http://www.w3.org/2000/svg\" height=\"24px\"viewBox=\"0 0 24 24\"\n",
              "     width=\"24px\">\n",
              "    <g>\n",
              "        <path d=\"M19 3H5c-1.1 0-2 .9-2 2v14c0 1.1.9 2 2 2h14c1.1 0 2-.9 2-2V5c0-1.1-.9-2-2-2zM9 17H7v-7h2v7zm4 0h-2V7h2v10zm4 0h-2v-4h2v4z\"/>\n",
              "    </g>\n",
              "</svg>\n",
              "  </button>\n",
              "\n",
              "<style>\n",
              "  .colab-df-quickchart {\n",
              "      --bg-color: #E8F0FE;\n",
              "      --fill-color: #1967D2;\n",
              "      --hover-bg-color: #E2EBFA;\n",
              "      --hover-fill-color: #174EA6;\n",
              "      --disabled-fill-color: #AAA;\n",
              "      --disabled-bg-color: #DDD;\n",
              "  }\n",
              "\n",
              "  [theme=dark] .colab-df-quickchart {\n",
              "      --bg-color: #3B4455;\n",
              "      --fill-color: #D2E3FC;\n",
              "      --hover-bg-color: #434B5C;\n",
              "      --hover-fill-color: #FFFFFF;\n",
              "      --disabled-bg-color: #3B4455;\n",
              "      --disabled-fill-color: #666;\n",
              "  }\n",
              "\n",
              "  .colab-df-quickchart {\n",
              "    background-color: var(--bg-color);\n",
              "    border: none;\n",
              "    border-radius: 50%;\n",
              "    cursor: pointer;\n",
              "    display: none;\n",
              "    fill: var(--fill-color);\n",
              "    height: 32px;\n",
              "    padding: 0;\n",
              "    width: 32px;\n",
              "  }\n",
              "\n",
              "  .colab-df-quickchart:hover {\n",
              "    background-color: var(--hover-bg-color);\n",
              "    box-shadow: 0 1px 2px rgba(60, 64, 67, 0.3), 0 1px 3px 1px rgba(60, 64, 67, 0.15);\n",
              "    fill: var(--button-hover-fill-color);\n",
              "  }\n",
              "\n",
              "  .colab-df-quickchart-complete:disabled,\n",
              "  .colab-df-quickchart-complete:disabled:hover {\n",
              "    background-color: var(--disabled-bg-color);\n",
              "    fill: var(--disabled-fill-color);\n",
              "    box-shadow: none;\n",
              "  }\n",
              "\n",
              "  .colab-df-spinner {\n",
              "    border: 2px solid var(--fill-color);\n",
              "    border-color: transparent;\n",
              "    border-bottom-color: var(--fill-color);\n",
              "    animation:\n",
              "      spin 1s steps(1) infinite;\n",
              "  }\n",
              "\n",
              "  @keyframes spin {\n",
              "    0% {\n",
              "      border-color: transparent;\n",
              "      border-bottom-color: var(--fill-color);\n",
              "      border-left-color: var(--fill-color);\n",
              "    }\n",
              "    20% {\n",
              "      border-color: transparent;\n",
              "      border-left-color: var(--fill-color);\n",
              "      border-top-color: var(--fill-color);\n",
              "    }\n",
              "    30% {\n",
              "      border-color: transparent;\n",
              "      border-left-color: var(--fill-color);\n",
              "      border-top-color: var(--fill-color);\n",
              "      border-right-color: var(--fill-color);\n",
              "    }\n",
              "    40% {\n",
              "      border-color: transparent;\n",
              "      border-right-color: var(--fill-color);\n",
              "      border-top-color: var(--fill-color);\n",
              "    }\n",
              "    60% {\n",
              "      border-color: transparent;\n",
              "      border-right-color: var(--fill-color);\n",
              "    }\n",
              "    80% {\n",
              "      border-color: transparent;\n",
              "      border-right-color: var(--fill-color);\n",
              "      border-bottom-color: var(--fill-color);\n",
              "    }\n",
              "    90% {\n",
              "      border-color: transparent;\n",
              "      border-bottom-color: var(--fill-color);\n",
              "    }\n",
              "  }\n",
              "</style>\n",
              "\n",
              "  <script>\n",
              "    async function quickchart(key) {\n",
              "      const quickchartButtonEl =\n",
              "        document.querySelector('#' + key + ' button');\n",
              "      quickchartButtonEl.disabled = true;  // To prevent multiple clicks.\n",
              "      quickchartButtonEl.classList.add('colab-df-spinner');\n",
              "      try {\n",
              "        const charts = await google.colab.kernel.invokeFunction(\n",
              "            'suggestCharts', [key], {});\n",
              "      } catch (error) {\n",
              "        console.error('Error during call to suggestCharts:', error);\n",
              "      }\n",
              "      quickchartButtonEl.classList.remove('colab-df-spinner');\n",
              "      quickchartButtonEl.classList.add('colab-df-quickchart-complete');\n",
              "    }\n",
              "    (() => {\n",
              "      let quickchartButtonEl =\n",
              "        document.querySelector('#df-36d420a7-c98d-438b-a2d0-93beef15d904 button');\n",
              "      quickchartButtonEl.style.display =\n",
              "        google.colab.kernel.accessAllowed ? 'block' : 'none';\n",
              "    })();\n",
              "  </script>\n",
              "</div>\n",
              "    </div>\n",
              "  </div>\n"
            ]
          },
          "metadata": {},
          "execution_count": 16
        }
      ],
      "source": [
        "from google.colab import drive\n",
        "drive.mount('/content/drive/')\n",
        "\n",
        "fastfood = pd.read_csv('/content/drive/MyDrive/FastFood1.csv')\n",
        "fastfood.head()"
      ]
    },
    {
      "cell_type": "markdown",
      "metadata": {
        "id": "gZkj8dfp60mY"
      },
      "source": [
        "### Let's test whether the T-test assumptions are satisfied or not\n",
        "\n",
        "* Continuous data - Yes, the delivery time is measured on a continuous scale.\n",
        "\n",
        "*   Normally distributed population and Sample size < 30 - Yes, it is assumed that the population is normal and the sample size is 25 which is less than 30.\n",
        "*   Observations are from a simple random sample - Yes, we are informed that the collected sample a simple random sample.\n",
        "*   Population standard deviation is known - No\n",
        "\n",
        "Voila! We can use T-test for this problem."
      ]
    },
    {
      "cell_type": "markdown",
      "metadata": {
        "id": "kxeP-6rx7T63"
      },
      "source": [
        "### Let's find the p-value"
      ]
    },
    {
      "cell_type": "code",
      "execution_count": 17,
      "metadata": {
        "colab": {
          "base_uri": "https://localhost:8080/"
        },
        "id": "TRmdVyRM7YUz",
        "outputId": "361927ac-d440-4425-b070-9d213eda310c"
      },
      "outputs": [
        {
          "output_type": "stream",
          "name": "stdout",
          "text": [
            "The p-value is  1.4822680927543513e-05\n"
          ]
        }
      ],
      "source": [
        "#import the required functions\n",
        "from scipy.stats import ttest_1samp\n",
        "\n",
        "# calculate the test statistic and p-value\n",
        "test_stat, p_value = ttest_1samp(fastfood['Time'], popmean = 40, alternative = 'greater')\n",
        "print('The p-value is ', p_value)"
      ]
    },
    {
      "cell_type": "markdown",
      "metadata": {
        "id": "uGVihRGE8RIq"
      },
      "source": [
        "### Insight\n",
        "As the p-value is much less than the level of significance, we can reject the null hypothesis. Hence, we do not have enough significance to conclude that the mean delivery time within 5 km radius is indeed 40 min or less, as claimed by ZYX in their advertisement."
      ]
    },
    {
      "cell_type": "markdown",
      "metadata": {
        "id": "23LuDgOiv5JU"
      },
      "source": [
        "\n",
        "\n",
        "# <a name='link7'>**Two Independent Sample Z-test for Equality of Means**</a>\n",
        "\n",
        "### Let's revisit the example\n",
        "\n",
        "To compare customer satisfaction levels of two competing media channels, 150 customers of Channel 1 and 300 customers of Channel 2 were randomly selected and were asked to rate their channels on a scale of 1-5, with 1 being least satisfied and 5 most satisfied (The survey results are summarized in a CSV file). Suppose we know that, $\\sigma_1$ = 0.48 and $\\sigma_2$ = 0.49.\n",
        "\n",
        "Test at 0.05 level of significance whether the data provide sufficient evidence to conclude that channel 1 has a higher mean satisfaction rating than channel 2.\n"
      ]
    },
    {
      "cell_type": "markdown",
      "metadata": {
        "id": "FD4tTSL2v5i6"
      },
      "source": [
        "### Let's write the null and alternative hypothesis\n",
        "Let $\\mu_1, \\mu_2$ be the mean customer rating of channel 1 and channel 2 respectively.\n",
        "\n",
        "We will test the null hypothesis\n",
        "\n",
        ">$H_0:\\mu_1=\\mu_2$\n",
        "\n",
        "against the alternate hypothesis\n",
        "\n",
        ">$H_a:\\mu_1>\\mu_2$"
      ]
    },
    {
      "cell_type": "markdown",
      "metadata": {
        "id": "k6SHWGjvqZbE"
      },
      "source": [
        "### Let's have a look on the sample data"
      ]
    },
    {
      "cell_type": "code",
      "execution_count": 18,
      "metadata": {
        "colab": {
          "base_uri": "https://localhost:8080/",
          "height": 206
        },
        "id": "QQF4Wfwwqgk2",
        "outputId": "1170b126-506f-4b6b-f616-bd777fc2382d"
      },
      "outputs": [
        {
          "output_type": "execute_result",
          "data": {
            "text/plain": [
              "   channel1_rating  channel2_rating\n",
              "0              3.5              3.3\n",
              "1              3.7              3.3\n",
              "2              3.0              2.9\n",
              "3              3.8              3.7\n",
              "4              3.3              4.0"
            ],
            "text/html": [
              "\n",
              "  <div id=\"df-35a5e703-4f1c-46bb-818a-e3cdd558a2ec\" class=\"colab-df-container\">\n",
              "    <div>\n",
              "<style scoped>\n",
              "    .dataframe tbody tr th:only-of-type {\n",
              "        vertical-align: middle;\n",
              "    }\n",
              "\n",
              "    .dataframe tbody tr th {\n",
              "        vertical-align: top;\n",
              "    }\n",
              "\n",
              "    .dataframe thead th {\n",
              "        text-align: right;\n",
              "    }\n",
              "</style>\n",
              "<table border=\"1\" class=\"dataframe\">\n",
              "  <thead>\n",
              "    <tr style=\"text-align: right;\">\n",
              "      <th></th>\n",
              "      <th>channel1_rating</th>\n",
              "      <th>channel2_rating</th>\n",
              "    </tr>\n",
              "  </thead>\n",
              "  <tbody>\n",
              "    <tr>\n",
              "      <th>0</th>\n",
              "      <td>3.5</td>\n",
              "      <td>3.3</td>\n",
              "    </tr>\n",
              "    <tr>\n",
              "      <th>1</th>\n",
              "      <td>3.7</td>\n",
              "      <td>3.3</td>\n",
              "    </tr>\n",
              "    <tr>\n",
              "      <th>2</th>\n",
              "      <td>3.0</td>\n",
              "      <td>2.9</td>\n",
              "    </tr>\n",
              "    <tr>\n",
              "      <th>3</th>\n",
              "      <td>3.8</td>\n",
              "      <td>3.7</td>\n",
              "    </tr>\n",
              "    <tr>\n",
              "      <th>4</th>\n",
              "      <td>3.3</td>\n",
              "      <td>4.0</td>\n",
              "    </tr>\n",
              "  </tbody>\n",
              "</table>\n",
              "</div>\n",
              "    <div class=\"colab-df-buttons\">\n",
              "\n",
              "  <div class=\"colab-df-container\">\n",
              "    <button class=\"colab-df-convert\" onclick=\"convertToInteractive('df-35a5e703-4f1c-46bb-818a-e3cdd558a2ec')\"\n",
              "            title=\"Convert this dataframe to an interactive table.\"\n",
              "            style=\"display:none;\">\n",
              "\n",
              "  <svg xmlns=\"http://www.w3.org/2000/svg\" height=\"24px\" viewBox=\"0 -960 960 960\">\n",
              "    <path d=\"M120-120v-720h720v720H120Zm60-500h600v-160H180v160Zm220 220h160v-160H400v160Zm0 220h160v-160H400v160ZM180-400h160v-160H180v160Zm440 0h160v-160H620v160ZM180-180h160v-160H180v160Zm440 0h160v-160H620v160Z\"/>\n",
              "  </svg>\n",
              "    </button>\n",
              "\n",
              "  <style>\n",
              "    .colab-df-container {\n",
              "      display:flex;\n",
              "      gap: 12px;\n",
              "    }\n",
              "\n",
              "    .colab-df-convert {\n",
              "      background-color: #E8F0FE;\n",
              "      border: none;\n",
              "      border-radius: 50%;\n",
              "      cursor: pointer;\n",
              "      display: none;\n",
              "      fill: #1967D2;\n",
              "      height: 32px;\n",
              "      padding: 0 0 0 0;\n",
              "      width: 32px;\n",
              "    }\n",
              "\n",
              "    .colab-df-convert:hover {\n",
              "      background-color: #E2EBFA;\n",
              "      box-shadow: 0px 1px 2px rgba(60, 64, 67, 0.3), 0px 1px 3px 1px rgba(60, 64, 67, 0.15);\n",
              "      fill: #174EA6;\n",
              "    }\n",
              "\n",
              "    .colab-df-buttons div {\n",
              "      margin-bottom: 4px;\n",
              "    }\n",
              "\n",
              "    [theme=dark] .colab-df-convert {\n",
              "      background-color: #3B4455;\n",
              "      fill: #D2E3FC;\n",
              "    }\n",
              "\n",
              "    [theme=dark] .colab-df-convert:hover {\n",
              "      background-color: #434B5C;\n",
              "      box-shadow: 0px 1px 3px 1px rgba(0, 0, 0, 0.15);\n",
              "      filter: drop-shadow(0px 1px 2px rgba(0, 0, 0, 0.3));\n",
              "      fill: #FFFFFF;\n",
              "    }\n",
              "  </style>\n",
              "\n",
              "    <script>\n",
              "      const buttonEl =\n",
              "        document.querySelector('#df-35a5e703-4f1c-46bb-818a-e3cdd558a2ec button.colab-df-convert');\n",
              "      buttonEl.style.display =\n",
              "        google.colab.kernel.accessAllowed ? 'block' : 'none';\n",
              "\n",
              "      async function convertToInteractive(key) {\n",
              "        const element = document.querySelector('#df-35a5e703-4f1c-46bb-818a-e3cdd558a2ec');\n",
              "        const dataTable =\n",
              "          await google.colab.kernel.invokeFunction('convertToInteractive',\n",
              "                                                    [key], {});\n",
              "        if (!dataTable) return;\n",
              "\n",
              "        const docLinkHtml = 'Like what you see? Visit the ' +\n",
              "          '<a target=\"_blank\" href=https://colab.research.google.com/notebooks/data_table.ipynb>data table notebook</a>'\n",
              "          + ' to learn more about interactive tables.';\n",
              "        element.innerHTML = '';\n",
              "        dataTable['output_type'] = 'display_data';\n",
              "        await google.colab.output.renderOutput(dataTable, element);\n",
              "        const docLink = document.createElement('div');\n",
              "        docLink.innerHTML = docLinkHtml;\n",
              "        element.appendChild(docLink);\n",
              "      }\n",
              "    </script>\n",
              "  </div>\n",
              "\n",
              "\n",
              "<div id=\"df-2127ffa1-d618-475b-be27-c62137f1f7b7\">\n",
              "  <button class=\"colab-df-quickchart\" onclick=\"quickchart('df-2127ffa1-d618-475b-be27-c62137f1f7b7')\"\n",
              "            title=\"Suggest charts\"\n",
              "            style=\"display:none;\">\n",
              "\n",
              "<svg xmlns=\"http://www.w3.org/2000/svg\" height=\"24px\"viewBox=\"0 0 24 24\"\n",
              "     width=\"24px\">\n",
              "    <g>\n",
              "        <path d=\"M19 3H5c-1.1 0-2 .9-2 2v14c0 1.1.9 2 2 2h14c1.1 0 2-.9 2-2V5c0-1.1-.9-2-2-2zM9 17H7v-7h2v7zm4 0h-2V7h2v10zm4 0h-2v-4h2v4z\"/>\n",
              "    </g>\n",
              "</svg>\n",
              "  </button>\n",
              "\n",
              "<style>\n",
              "  .colab-df-quickchart {\n",
              "      --bg-color: #E8F0FE;\n",
              "      --fill-color: #1967D2;\n",
              "      --hover-bg-color: #E2EBFA;\n",
              "      --hover-fill-color: #174EA6;\n",
              "      --disabled-fill-color: #AAA;\n",
              "      --disabled-bg-color: #DDD;\n",
              "  }\n",
              "\n",
              "  [theme=dark] .colab-df-quickchart {\n",
              "      --bg-color: #3B4455;\n",
              "      --fill-color: #D2E3FC;\n",
              "      --hover-bg-color: #434B5C;\n",
              "      --hover-fill-color: #FFFFFF;\n",
              "      --disabled-bg-color: #3B4455;\n",
              "      --disabled-fill-color: #666;\n",
              "  }\n",
              "\n",
              "  .colab-df-quickchart {\n",
              "    background-color: var(--bg-color);\n",
              "    border: none;\n",
              "    border-radius: 50%;\n",
              "    cursor: pointer;\n",
              "    display: none;\n",
              "    fill: var(--fill-color);\n",
              "    height: 32px;\n",
              "    padding: 0;\n",
              "    width: 32px;\n",
              "  }\n",
              "\n",
              "  .colab-df-quickchart:hover {\n",
              "    background-color: var(--hover-bg-color);\n",
              "    box-shadow: 0 1px 2px rgba(60, 64, 67, 0.3), 0 1px 3px 1px rgba(60, 64, 67, 0.15);\n",
              "    fill: var(--button-hover-fill-color);\n",
              "  }\n",
              "\n",
              "  .colab-df-quickchart-complete:disabled,\n",
              "  .colab-df-quickchart-complete:disabled:hover {\n",
              "    background-color: var(--disabled-bg-color);\n",
              "    fill: var(--disabled-fill-color);\n",
              "    box-shadow: none;\n",
              "  }\n",
              "\n",
              "  .colab-df-spinner {\n",
              "    border: 2px solid var(--fill-color);\n",
              "    border-color: transparent;\n",
              "    border-bottom-color: var(--fill-color);\n",
              "    animation:\n",
              "      spin 1s steps(1) infinite;\n",
              "  }\n",
              "\n",
              "  @keyframes spin {\n",
              "    0% {\n",
              "      border-color: transparent;\n",
              "      border-bottom-color: var(--fill-color);\n",
              "      border-left-color: var(--fill-color);\n",
              "    }\n",
              "    20% {\n",
              "      border-color: transparent;\n",
              "      border-left-color: var(--fill-color);\n",
              "      border-top-color: var(--fill-color);\n",
              "    }\n",
              "    30% {\n",
              "      border-color: transparent;\n",
              "      border-left-color: var(--fill-color);\n",
              "      border-top-color: var(--fill-color);\n",
              "      border-right-color: var(--fill-color);\n",
              "    }\n",
              "    40% {\n",
              "      border-color: transparent;\n",
              "      border-right-color: var(--fill-color);\n",
              "      border-top-color: var(--fill-color);\n",
              "    }\n",
              "    60% {\n",
              "      border-color: transparent;\n",
              "      border-right-color: var(--fill-color);\n",
              "    }\n",
              "    80% {\n",
              "      border-color: transparent;\n",
              "      border-right-color: var(--fill-color);\n",
              "      border-bottom-color: var(--fill-color);\n",
              "    }\n",
              "    90% {\n",
              "      border-color: transparent;\n",
              "      border-bottom-color: var(--fill-color);\n",
              "    }\n",
              "  }\n",
              "</style>\n",
              "\n",
              "  <script>\n",
              "    async function quickchart(key) {\n",
              "      const quickchartButtonEl =\n",
              "        document.querySelector('#' + key + ' button');\n",
              "      quickchartButtonEl.disabled = true;  // To prevent multiple clicks.\n",
              "      quickchartButtonEl.classList.add('colab-df-spinner');\n",
              "      try {\n",
              "        const charts = await google.colab.kernel.invokeFunction(\n",
              "            'suggestCharts', [key], {});\n",
              "      } catch (error) {\n",
              "        console.error('Error during call to suggestCharts:', error);\n",
              "      }\n",
              "      quickchartButtonEl.classList.remove('colab-df-spinner');\n",
              "      quickchartButtonEl.classList.add('colab-df-quickchart-complete');\n",
              "    }\n",
              "    (() => {\n",
              "      let quickchartButtonEl =\n",
              "        document.querySelector('#df-2127ffa1-d618-475b-be27-c62137f1f7b7 button');\n",
              "      quickchartButtonEl.style.display =\n",
              "        google.colab.kernel.accessAllowed ? 'block' : 'none';\n",
              "    })();\n",
              "  </script>\n",
              "</div>\n",
              "    </div>\n",
              "  </div>\n"
            ]
          },
          "metadata": {},
          "execution_count": 18
        }
      ],
      "source": [
        "rating = pd.read_csv('/content/drive/MyDrive/rating.csv')\n",
        "rating.head()"
      ]
    },
    {
      "cell_type": "code",
      "execution_count": 19,
      "metadata": {
        "colab": {
          "base_uri": "https://localhost:8080/"
        },
        "id": "6TKSnS1-r0yk",
        "outputId": "cf782e1e-0e69-41d7-8d6e-1d2541383e54",
        "scrolled": true
      },
      "outputs": [
        {
          "output_type": "stream",
          "name": "stdout",
          "text": [
            "The mean rating for channel 1 is 3.5\n",
            "The mean rating for channel 2 is 3.2\n"
          ]
        }
      ],
      "source": [
        "# find the sample means and sample standard deviations for the two samples\n",
        "print('The mean rating for channel 1 is ' + str(round(rating['channel1_rating'].mean(),1)))\n",
        "print('The mean rating for channel 2 is ' + str(round(rating['channel2_rating'].mean(), 1)))"
      ]
    },
    {
      "cell_type": "markdown",
      "metadata": {
        "id": "On9IY1NDv5yJ"
      },
      "source": [
        "\n",
        "\n",
        "### Let's test whether the Z-test assumptions are satisfied or not\n",
        "\n",
        "* Continuous data - The ratings are measured on a continuous scale.\n",
        "* Normally distributed populations or Sample sizes > 30 - Since the sample sizes are greater than 30, Central Limit Theorem states that the distribution of sample means will be normal.\n",
        "* Independent populations - As we are taking samples for two different channels, the two samples are from two independent populations.\n",
        "* Known population standard deviation $\\sigma_1$ and $\\sigma_2$ - Yes, we know the population standard deviations of both the populations.\n",
        "* Random sampling from the population - Yes, we are informed that the collected sample is a simple random sample.\n",
        "\n",
        "Voila! We can use two sample Z-test for this problem."
      ]
    },
    {
      "cell_type": "markdown",
      "metadata": {
        "id": "xPyf-mDIqqTk"
      },
      "source": [
        "### Let's find the p-value"
      ]
    },
    {
      "cell_type": "code",
      "execution_count": 20,
      "metadata": {
        "id": "_uPFrnBiu56d"
      },
      "outputs": [],
      "source": [
        "# user-defined function to compare the equality of two means from two independent populations, where population standard deviations are known\n",
        "# this function returns the p-value for one tailed test\n",
        "# for two-tailed test, multiply the p-value by 2\n",
        "def ztest_2samp(X1, X2, pop_sd1, pop_sd2, n1, n2):\n",
        "    '''\n",
        "    X1 - first of the two independent samples (sample 1)\n",
        "    X2 - second of the two independent samples (sample 2)\n",
        "    pop_sd1 - Population standard deviation of sample 1\n",
        "    pop_sd2 - Population standard deviation of sample 2\n",
        "    n1 - size of sample 1\n",
        "    n2 - size of sample 2\n",
        "    '''\n",
        "    from numpy import sqrt, abs\n",
        "    from scipy.stats import norm\n",
        "    se = sqrt(pop_sd1**2/n1 + pop_sd2**2/n2)\n",
        "    test_stat = ((X1.mean() - X2.mean()) - 0)/ se\n",
        "    pval = 1 - norm.cdf(abs(test_stat))\n",
        "    return pval"
      ]
    },
    {
      "cell_type": "code",
      "execution_count": 21,
      "metadata": {
        "colab": {
          "base_uri": "https://localhost:8080/"
        },
        "id": "a_KDzzbLrXc6",
        "outputId": "44a6ced1-9120-4a32-ba09-bc21f33923fc"
      },
      "outputs": [
        {
          "output_type": "stream",
          "name": "stdout",
          "text": [
            "The P-value is 5.87973714161194e-09\n"
          ]
        }
      ],
      "source": [
        "# find the P-value\n",
        "p_value = ztest_2samp(rating['channel1_rating'].dropna(), rating['channel2_rating'], 0.48, 0.49, 150 ,300)\n",
        "print('The P-value is', p_value)"
      ]
    },
    {
      "cell_type": "markdown",
      "metadata": {
        "id": "6YUHgI3hxjrC"
      },
      "source": [
        "### Insight\n",
        "\n",
        "As the p-value is much less than the level of significance 0.05, we reject the null hypothesis. Thus, we have enough statistical evidence to say that channel 1 has a higher mean satisfaction rating than channel 2."
      ]
    },
    {
      "cell_type": "markdown",
      "metadata": {
        "id": "gE3YTnBx54pI"
      },
      "source": [
        "# <a name='link8'>**Two Independent Sample T-test for Equality of Means - Equal Std Dev**</a>"
      ]
    },
    {
      "cell_type": "markdown",
      "metadata": {
        "id": "2VX0ny4f6a_B"
      },
      "source": [
        "\n",
        "### Let's revisit the example\n",
        "\n",
        "\n",
        "In the lockdown period, because of working from home and increased screen time, many opted for listening to FM Radio for entertainment rather than watching Cable TV. An advertisement agency randomly collected daily usage time data (in minutes) from both type of users and stored it in a CSV file.\n",
        "\n",
        "Assuming daily Radio and TV usage time are normally distributed, do we have enough evidence to conclude that there is any difference between daily TV and Radio usage time at 0.05 significance level?\n"
      ]
    },
    {
      "cell_type": "markdown",
      "metadata": {
        "id": "QQI62wCl9JEB"
      },
      "source": [
        "### Let's write the null and alternative hypothesis\n",
        "Let $\\mu_1, \\mu_2$ be the daily mean Radio usage time and TV usage time respectively.\n",
        "\n",
        "We will test the null hypothesis\n",
        "\n",
        ">$H_0:\\mu_1=\\mu_2$\n",
        "\n",
        "against the alternate hypothesis\n",
        "\n",
        ">$H_a:\\mu_1\\neq\\mu_2$\n",
        "\n"
      ]
    },
    {
      "cell_type": "markdown",
      "metadata": {
        "id": "Bq06ETuCYEey"
      },
      "source": [
        "### Let's have a look on the sample data"
      ]
    },
    {
      "cell_type": "code",
      "execution_count": 22,
      "metadata": {
        "colab": {
          "base_uri": "https://localhost:8080/",
          "height": 206
        },
        "id": "v63O6W_byo2Z",
        "outputId": "4983232c-2760-446d-b87b-4b9002ab8764"
      },
      "outputs": [
        {
          "output_type": "execute_result",
          "data": {
            "text/plain": [
              "   Cable_TV  FM_Radio\n",
              "0        22        25\n",
              "1         8        10\n",
              "2        25        29\n",
              "3        22        19\n",
              "4        12        13"
            ],
            "text/html": [
              "\n",
              "  <div id=\"df-28241c18-e64b-4374-9f50-dfcd85b0ac4e\" class=\"colab-df-container\">\n",
              "    <div>\n",
              "<style scoped>\n",
              "    .dataframe tbody tr th:only-of-type {\n",
              "        vertical-align: middle;\n",
              "    }\n",
              "\n",
              "    .dataframe tbody tr th {\n",
              "        vertical-align: top;\n",
              "    }\n",
              "\n",
              "    .dataframe thead th {\n",
              "        text-align: right;\n",
              "    }\n",
              "</style>\n",
              "<table border=\"1\" class=\"dataframe\">\n",
              "  <thead>\n",
              "    <tr style=\"text-align: right;\">\n",
              "      <th></th>\n",
              "      <th>Cable_TV</th>\n",
              "      <th>FM_Radio</th>\n",
              "    </tr>\n",
              "  </thead>\n",
              "  <tbody>\n",
              "    <tr>\n",
              "      <th>0</th>\n",
              "      <td>22</td>\n",
              "      <td>25</td>\n",
              "    </tr>\n",
              "    <tr>\n",
              "      <th>1</th>\n",
              "      <td>8</td>\n",
              "      <td>10</td>\n",
              "    </tr>\n",
              "    <tr>\n",
              "      <th>2</th>\n",
              "      <td>25</td>\n",
              "      <td>29</td>\n",
              "    </tr>\n",
              "    <tr>\n",
              "      <th>3</th>\n",
              "      <td>22</td>\n",
              "      <td>19</td>\n",
              "    </tr>\n",
              "    <tr>\n",
              "      <th>4</th>\n",
              "      <td>12</td>\n",
              "      <td>13</td>\n",
              "    </tr>\n",
              "  </tbody>\n",
              "</table>\n",
              "</div>\n",
              "    <div class=\"colab-df-buttons\">\n",
              "\n",
              "  <div class=\"colab-df-container\">\n",
              "    <button class=\"colab-df-convert\" onclick=\"convertToInteractive('df-28241c18-e64b-4374-9f50-dfcd85b0ac4e')\"\n",
              "            title=\"Convert this dataframe to an interactive table.\"\n",
              "            style=\"display:none;\">\n",
              "\n",
              "  <svg xmlns=\"http://www.w3.org/2000/svg\" height=\"24px\" viewBox=\"0 -960 960 960\">\n",
              "    <path d=\"M120-120v-720h720v720H120Zm60-500h600v-160H180v160Zm220 220h160v-160H400v160Zm0 220h160v-160H400v160ZM180-400h160v-160H180v160Zm440 0h160v-160H620v160ZM180-180h160v-160H180v160Zm440 0h160v-160H620v160Z\"/>\n",
              "  </svg>\n",
              "    </button>\n",
              "\n",
              "  <style>\n",
              "    .colab-df-container {\n",
              "      display:flex;\n",
              "      gap: 12px;\n",
              "    }\n",
              "\n",
              "    .colab-df-convert {\n",
              "      background-color: #E8F0FE;\n",
              "      border: none;\n",
              "      border-radius: 50%;\n",
              "      cursor: pointer;\n",
              "      display: none;\n",
              "      fill: #1967D2;\n",
              "      height: 32px;\n",
              "      padding: 0 0 0 0;\n",
              "      width: 32px;\n",
              "    }\n",
              "\n",
              "    .colab-df-convert:hover {\n",
              "      background-color: #E2EBFA;\n",
              "      box-shadow: 0px 1px 2px rgba(60, 64, 67, 0.3), 0px 1px 3px 1px rgba(60, 64, 67, 0.15);\n",
              "      fill: #174EA6;\n",
              "    }\n",
              "\n",
              "    .colab-df-buttons div {\n",
              "      margin-bottom: 4px;\n",
              "    }\n",
              "\n",
              "    [theme=dark] .colab-df-convert {\n",
              "      background-color: #3B4455;\n",
              "      fill: #D2E3FC;\n",
              "    }\n",
              "\n",
              "    [theme=dark] .colab-df-convert:hover {\n",
              "      background-color: #434B5C;\n",
              "      box-shadow: 0px 1px 3px 1px rgba(0, 0, 0, 0.15);\n",
              "      filter: drop-shadow(0px 1px 2px rgba(0, 0, 0, 0.3));\n",
              "      fill: #FFFFFF;\n",
              "    }\n",
              "  </style>\n",
              "\n",
              "    <script>\n",
              "      const buttonEl =\n",
              "        document.querySelector('#df-28241c18-e64b-4374-9f50-dfcd85b0ac4e button.colab-df-convert');\n",
              "      buttonEl.style.display =\n",
              "        google.colab.kernel.accessAllowed ? 'block' : 'none';\n",
              "\n",
              "      async function convertToInteractive(key) {\n",
              "        const element = document.querySelector('#df-28241c18-e64b-4374-9f50-dfcd85b0ac4e');\n",
              "        const dataTable =\n",
              "          await google.colab.kernel.invokeFunction('convertToInteractive',\n",
              "                                                    [key], {});\n",
              "        if (!dataTable) return;\n",
              "\n",
              "        const docLinkHtml = 'Like what you see? Visit the ' +\n",
              "          '<a target=\"_blank\" href=https://colab.research.google.com/notebooks/data_table.ipynb>data table notebook</a>'\n",
              "          + ' to learn more about interactive tables.';\n",
              "        element.innerHTML = '';\n",
              "        dataTable['output_type'] = 'display_data';\n",
              "        await google.colab.output.renderOutput(dataTable, element);\n",
              "        const docLink = document.createElement('div');\n",
              "        docLink.innerHTML = docLinkHtml;\n",
              "        element.appendChild(docLink);\n",
              "      }\n",
              "    </script>\n",
              "  </div>\n",
              "\n",
              "\n",
              "<div id=\"df-d36a9d36-c939-45e3-87e1-06f9a88ca38a\">\n",
              "  <button class=\"colab-df-quickchart\" onclick=\"quickchart('df-d36a9d36-c939-45e3-87e1-06f9a88ca38a')\"\n",
              "            title=\"Suggest charts\"\n",
              "            style=\"display:none;\">\n",
              "\n",
              "<svg xmlns=\"http://www.w3.org/2000/svg\" height=\"24px\"viewBox=\"0 0 24 24\"\n",
              "     width=\"24px\">\n",
              "    <g>\n",
              "        <path d=\"M19 3H5c-1.1 0-2 .9-2 2v14c0 1.1.9 2 2 2h14c1.1 0 2-.9 2-2V5c0-1.1-.9-2-2-2zM9 17H7v-7h2v7zm4 0h-2V7h2v10zm4 0h-2v-4h2v4z\"/>\n",
              "    </g>\n",
              "</svg>\n",
              "  </button>\n",
              "\n",
              "<style>\n",
              "  .colab-df-quickchart {\n",
              "      --bg-color: #E8F0FE;\n",
              "      --fill-color: #1967D2;\n",
              "      --hover-bg-color: #E2EBFA;\n",
              "      --hover-fill-color: #174EA6;\n",
              "      --disabled-fill-color: #AAA;\n",
              "      --disabled-bg-color: #DDD;\n",
              "  }\n",
              "\n",
              "  [theme=dark] .colab-df-quickchart {\n",
              "      --bg-color: #3B4455;\n",
              "      --fill-color: #D2E3FC;\n",
              "      --hover-bg-color: #434B5C;\n",
              "      --hover-fill-color: #FFFFFF;\n",
              "      --disabled-bg-color: #3B4455;\n",
              "      --disabled-fill-color: #666;\n",
              "  }\n",
              "\n",
              "  .colab-df-quickchart {\n",
              "    background-color: var(--bg-color);\n",
              "    border: none;\n",
              "    border-radius: 50%;\n",
              "    cursor: pointer;\n",
              "    display: none;\n",
              "    fill: var(--fill-color);\n",
              "    height: 32px;\n",
              "    padding: 0;\n",
              "    width: 32px;\n",
              "  }\n",
              "\n",
              "  .colab-df-quickchart:hover {\n",
              "    background-color: var(--hover-bg-color);\n",
              "    box-shadow: 0 1px 2px rgba(60, 64, 67, 0.3), 0 1px 3px 1px rgba(60, 64, 67, 0.15);\n",
              "    fill: var(--button-hover-fill-color);\n",
              "  }\n",
              "\n",
              "  .colab-df-quickchart-complete:disabled,\n",
              "  .colab-df-quickchart-complete:disabled:hover {\n",
              "    background-color: var(--disabled-bg-color);\n",
              "    fill: var(--disabled-fill-color);\n",
              "    box-shadow: none;\n",
              "  }\n",
              "\n",
              "  .colab-df-spinner {\n",
              "    border: 2px solid var(--fill-color);\n",
              "    border-color: transparent;\n",
              "    border-bottom-color: var(--fill-color);\n",
              "    animation:\n",
              "      spin 1s steps(1) infinite;\n",
              "  }\n",
              "\n",
              "  @keyframes spin {\n",
              "    0% {\n",
              "      border-color: transparent;\n",
              "      border-bottom-color: var(--fill-color);\n",
              "      border-left-color: var(--fill-color);\n",
              "    }\n",
              "    20% {\n",
              "      border-color: transparent;\n",
              "      border-left-color: var(--fill-color);\n",
              "      border-top-color: var(--fill-color);\n",
              "    }\n",
              "    30% {\n",
              "      border-color: transparent;\n",
              "      border-left-color: var(--fill-color);\n",
              "      border-top-color: var(--fill-color);\n",
              "      border-right-color: var(--fill-color);\n",
              "    }\n",
              "    40% {\n",
              "      border-color: transparent;\n",
              "      border-right-color: var(--fill-color);\n",
              "      border-top-color: var(--fill-color);\n",
              "    }\n",
              "    60% {\n",
              "      border-color: transparent;\n",
              "      border-right-color: var(--fill-color);\n",
              "    }\n",
              "    80% {\n",
              "      border-color: transparent;\n",
              "      border-right-color: var(--fill-color);\n",
              "      border-bottom-color: var(--fill-color);\n",
              "    }\n",
              "    90% {\n",
              "      border-color: transparent;\n",
              "      border-bottom-color: var(--fill-color);\n",
              "    }\n",
              "  }\n",
              "</style>\n",
              "\n",
              "  <script>\n",
              "    async function quickchart(key) {\n",
              "      const quickchartButtonEl =\n",
              "        document.querySelector('#' + key + ' button');\n",
              "      quickchartButtonEl.disabled = true;  // To prevent multiple clicks.\n",
              "      quickchartButtonEl.classList.add('colab-df-spinner');\n",
              "      try {\n",
              "        const charts = await google.colab.kernel.invokeFunction(\n",
              "            'suggestCharts', [key], {});\n",
              "      } catch (error) {\n",
              "        console.error('Error during call to suggestCharts:', error);\n",
              "      }\n",
              "      quickchartButtonEl.classList.remove('colab-df-spinner');\n",
              "      quickchartButtonEl.classList.add('colab-df-quickchart-complete');\n",
              "    }\n",
              "    (() => {\n",
              "      let quickchartButtonEl =\n",
              "        document.querySelector('#df-d36a9d36-c939-45e3-87e1-06f9a88ca38a button');\n",
              "      quickchartButtonEl.style.display =\n",
              "        google.colab.kernel.accessAllowed ? 'block' : 'none';\n",
              "    })();\n",
              "  </script>\n",
              "</div>\n",
              "    </div>\n",
              "  </div>\n"
            ]
          },
          "metadata": {},
          "execution_count": 22
        }
      ],
      "source": [
        "tvradio = pd.read_csv('/content/drive/MyDrive/TVRadio.csv')\n",
        "tvradio.head()"
      ]
    },
    {
      "cell_type": "code",
      "execution_count": 23,
      "metadata": {
        "colab": {
          "base_uri": "https://localhost:8080/"
        },
        "id": "aJjplEcBXvnQ",
        "outputId": "4902dd97-7c9a-449e-b1c5-eeb488cca6c5"
      },
      "outputs": [
        {
          "output_type": "stream",
          "name": "stdout",
          "text": [
            "The mean usage time of cable TV is 18.8\n",
            "The mean usage time of FM radio is 20.0\n",
            "The standard deviation of usage time of cable TV is 5.41\n",
            "The standard deviation of usage time of FM radio is 5.42\n"
          ]
        }
      ],
      "source": [
        "# find the sample means and sample standard deviations for the two samples\n",
        "print('The mean usage time of cable TV is ' + str(tvradio['Cable_TV'].mean()))\n",
        "print('The mean usage time of FM radio is ' + str(tvradio['FM_Radio'].mean()))\n",
        "print('The standard deviation of usage time of cable TV is ' + str(round(tvradio['Cable_TV'].std(),2)))\n",
        "print('The standard deviation of usage time of FM radio is ' + str(round(tvradio['FM_Radio'].std(),2)))"
      ]
    },
    {
      "cell_type": "markdown",
      "metadata": {
        "id": "-ZTenzwH-I6f"
      },
      "source": [
        "### Let's test whether the T-test assumptions are satisfied or not\n",
        "\n",
        "* Continuous data - Yes, the usage time is measured on a continuous scale.\n",
        "* Normally distributed populations - Yes, we are informed that the populations are assumed to be normal.\n",
        "* Independent populations - As we are taking random samples for two different type of users, the two samples are from two independent populations.\n",
        "* Equal population standard deviations - As the sample standard deviations are almost equal, the population standard deviations may be assumed to be equal.\n",
        "* Random sampling from the population - Yes, we are informed that the collected sample is a simple random sample.\n",
        "\n",
        "Voila! We can use two sample T-test for this problem.\n",
        "\n"
      ]
    },
    {
      "cell_type": "markdown",
      "metadata": {
        "id": "HaXBN9zP6rFH"
      },
      "source": [
        "### Let's find the p-value"
      ]
    },
    {
      "cell_type": "code",
      "execution_count": 24,
      "metadata": {
        "colab": {
          "base_uri": "https://localhost:8080/"
        },
        "id": "XaRGog9D8_it",
        "outputId": "2cc04f73-fdf5-46c4-9d7e-08579ba68f55"
      },
      "outputs": [
        {
          "output_type": "stream",
          "name": "stdout",
          "text": [
            "The p-value is 0.5491435225558506\n"
          ]
        }
      ],
      "source": [
        "#import the required functions\n",
        "from scipy.stats import ttest_ind\n",
        "\n",
        "# find the p-value\n",
        "test_stat, p_value = ttest_ind(tvradio['Cable_TV'], tvradio['FM_Radio'], equal_var = True, alternative = 'two-sided')\n",
        "print('The p-value is ' + str(p_value))"
      ]
    },
    {
      "cell_type": "markdown",
      "metadata": {
        "id": "nU8OiJM1bTMJ"
      },
      "source": [
        "### Insight\n",
        "As the p-value(~0.55) is much greater than the level of significance, we can not reject the null hypothesis. Hence, we do not have enough significance to conclude that there is any difference between daily TV and Radio usage at 0.05 significance level."
      ]
    },
    {
      "cell_type": "markdown",
      "metadata": {
        "id": "S94HHmoe6Hlv"
      },
      "source": [
        "# <a name='link9'>**Two Independent Sample T-test for Equality of Means - Unequal Std Dev**</a>"
      ]
    },
    {
      "cell_type": "markdown",
      "metadata": {
        "id": "GF0J8cvZb_6Q"
      },
      "source": [
        "\n",
        "\n",
        "### Let's revisit the example\n",
        "\n",
        "SAT verbal scores of two groups of students are given in a CSV file. The first group, College, contains scores of students whose parents have at least a bachelor’s degree and the second group, High School, contains scores of students whose parents do not have any college degree.\n",
        "\n",
        "The Education Department is interested to know whether the sample data support the theory that students show a higher population mean verbal score on SAT if their parents attain a higher level of education.\n",
        "\n",
        "Assuming SAT verbal scores for two populations are normally distributed, do we have enough statistical evidence for this at 5% significance level?"
      ]
    },
    {
      "cell_type": "markdown",
      "metadata": {
        "id": "GJuoxHuSeiZW"
      },
      "source": [
        "### Let's write the null and alternative hypothesis\n",
        "\n",
        "\n",
        "Let $\\mu_1, \\mu_2$ be the mean SAT verbal scores of **College** and **High School** groups respectively.\n",
        "\n",
        "We will test the null hypothesis\n",
        "\n",
        ">$H_0:\\mu_1=\\mu_2$\n",
        "\n",
        "against the alternate hypothesis\n",
        "\n",
        ">$H_a:\\mu_1>\\mu_2$"
      ]
    },
    {
      "cell_type": "markdown",
      "metadata": {
        "id": "k6PL8Qg6hc5I"
      },
      "source": [
        "### Let's have a look on the sample data"
      ]
    },
    {
      "cell_type": "code",
      "execution_count": 25,
      "metadata": {
        "colab": {
          "base_uri": "https://localhost:8080/",
          "height": 206
        },
        "id": "Zw4bSIVzwO7p",
        "outputId": "204c1437-fb58-45f2-ff59-744dcf513841"
      },
      "outputs": [
        {
          "output_type": "execute_result",
          "data": {
            "text/plain": [
              "   College  High School\n",
              "0      485        489.0\n",
              "1      534        507.0\n",
              "2      650        447.0\n",
              "3      554        515.0\n",
              "4      550        470.0"
            ],
            "text/html": [
              "\n",
              "  <div id=\"df-719e7959-0992-4042-975a-932db2ec6afc\" class=\"colab-df-container\">\n",
              "    <div>\n",
              "<style scoped>\n",
              "    .dataframe tbody tr th:only-of-type {\n",
              "        vertical-align: middle;\n",
              "    }\n",
              "\n",
              "    .dataframe tbody tr th {\n",
              "        vertical-align: top;\n",
              "    }\n",
              "\n",
              "    .dataframe thead th {\n",
              "        text-align: right;\n",
              "    }\n",
              "</style>\n",
              "<table border=\"1\" class=\"dataframe\">\n",
              "  <thead>\n",
              "    <tr style=\"text-align: right;\">\n",
              "      <th></th>\n",
              "      <th>College</th>\n",
              "      <th>High School</th>\n",
              "    </tr>\n",
              "  </thead>\n",
              "  <tbody>\n",
              "    <tr>\n",
              "      <th>0</th>\n",
              "      <td>485</td>\n",
              "      <td>489.0</td>\n",
              "    </tr>\n",
              "    <tr>\n",
              "      <th>1</th>\n",
              "      <td>534</td>\n",
              "      <td>507.0</td>\n",
              "    </tr>\n",
              "    <tr>\n",
              "      <th>2</th>\n",
              "      <td>650</td>\n",
              "      <td>447.0</td>\n",
              "    </tr>\n",
              "    <tr>\n",
              "      <th>3</th>\n",
              "      <td>554</td>\n",
              "      <td>515.0</td>\n",
              "    </tr>\n",
              "    <tr>\n",
              "      <th>4</th>\n",
              "      <td>550</td>\n",
              "      <td>470.0</td>\n",
              "    </tr>\n",
              "  </tbody>\n",
              "</table>\n",
              "</div>\n",
              "    <div class=\"colab-df-buttons\">\n",
              "\n",
              "  <div class=\"colab-df-container\">\n",
              "    <button class=\"colab-df-convert\" onclick=\"convertToInteractive('df-719e7959-0992-4042-975a-932db2ec6afc')\"\n",
              "            title=\"Convert this dataframe to an interactive table.\"\n",
              "            style=\"display:none;\">\n",
              "\n",
              "  <svg xmlns=\"http://www.w3.org/2000/svg\" height=\"24px\" viewBox=\"0 -960 960 960\">\n",
              "    <path d=\"M120-120v-720h720v720H120Zm60-500h600v-160H180v160Zm220 220h160v-160H400v160Zm0 220h160v-160H400v160ZM180-400h160v-160H180v160Zm440 0h160v-160H620v160ZM180-180h160v-160H180v160Zm440 0h160v-160H620v160Z\"/>\n",
              "  </svg>\n",
              "    </button>\n",
              "\n",
              "  <style>\n",
              "    .colab-df-container {\n",
              "      display:flex;\n",
              "      gap: 12px;\n",
              "    }\n",
              "\n",
              "    .colab-df-convert {\n",
              "      background-color: #E8F0FE;\n",
              "      border: none;\n",
              "      border-radius: 50%;\n",
              "      cursor: pointer;\n",
              "      display: none;\n",
              "      fill: #1967D2;\n",
              "      height: 32px;\n",
              "      padding: 0 0 0 0;\n",
              "      width: 32px;\n",
              "    }\n",
              "\n",
              "    .colab-df-convert:hover {\n",
              "      background-color: #E2EBFA;\n",
              "      box-shadow: 0px 1px 2px rgba(60, 64, 67, 0.3), 0px 1px 3px 1px rgba(60, 64, 67, 0.15);\n",
              "      fill: #174EA6;\n",
              "    }\n",
              "\n",
              "    .colab-df-buttons div {\n",
              "      margin-bottom: 4px;\n",
              "    }\n",
              "\n",
              "    [theme=dark] .colab-df-convert {\n",
              "      background-color: #3B4455;\n",
              "      fill: #D2E3FC;\n",
              "    }\n",
              "\n",
              "    [theme=dark] .colab-df-convert:hover {\n",
              "      background-color: #434B5C;\n",
              "      box-shadow: 0px 1px 3px 1px rgba(0, 0, 0, 0.15);\n",
              "      filter: drop-shadow(0px 1px 2px rgba(0, 0, 0, 0.3));\n",
              "      fill: #FFFFFF;\n",
              "    }\n",
              "  </style>\n",
              "\n",
              "    <script>\n",
              "      const buttonEl =\n",
              "        document.querySelector('#df-719e7959-0992-4042-975a-932db2ec6afc button.colab-df-convert');\n",
              "      buttonEl.style.display =\n",
              "        google.colab.kernel.accessAllowed ? 'block' : 'none';\n",
              "\n",
              "      async function convertToInteractive(key) {\n",
              "        const element = document.querySelector('#df-719e7959-0992-4042-975a-932db2ec6afc');\n",
              "        const dataTable =\n",
              "          await google.colab.kernel.invokeFunction('convertToInteractive',\n",
              "                                                    [key], {});\n",
              "        if (!dataTable) return;\n",
              "\n",
              "        const docLinkHtml = 'Like what you see? Visit the ' +\n",
              "          '<a target=\"_blank\" href=https://colab.research.google.com/notebooks/data_table.ipynb>data table notebook</a>'\n",
              "          + ' to learn more about interactive tables.';\n",
              "        element.innerHTML = '';\n",
              "        dataTable['output_type'] = 'display_data';\n",
              "        await google.colab.output.renderOutput(dataTable, element);\n",
              "        const docLink = document.createElement('div');\n",
              "        docLink.innerHTML = docLinkHtml;\n",
              "        element.appendChild(docLink);\n",
              "      }\n",
              "    </script>\n",
              "  </div>\n",
              "\n",
              "\n",
              "<div id=\"df-b5493a68-0edf-422f-b895-e1d256c2f293\">\n",
              "  <button class=\"colab-df-quickchart\" onclick=\"quickchart('df-b5493a68-0edf-422f-b895-e1d256c2f293')\"\n",
              "            title=\"Suggest charts\"\n",
              "            style=\"display:none;\">\n",
              "\n",
              "<svg xmlns=\"http://www.w3.org/2000/svg\" height=\"24px\"viewBox=\"0 0 24 24\"\n",
              "     width=\"24px\">\n",
              "    <g>\n",
              "        <path d=\"M19 3H5c-1.1 0-2 .9-2 2v14c0 1.1.9 2 2 2h14c1.1 0 2-.9 2-2V5c0-1.1-.9-2-2-2zM9 17H7v-7h2v7zm4 0h-2V7h2v10zm4 0h-2v-4h2v4z\"/>\n",
              "    </g>\n",
              "</svg>\n",
              "  </button>\n",
              "\n",
              "<style>\n",
              "  .colab-df-quickchart {\n",
              "      --bg-color: #E8F0FE;\n",
              "      --fill-color: #1967D2;\n",
              "      --hover-bg-color: #E2EBFA;\n",
              "      --hover-fill-color: #174EA6;\n",
              "      --disabled-fill-color: #AAA;\n",
              "      --disabled-bg-color: #DDD;\n",
              "  }\n",
              "\n",
              "  [theme=dark] .colab-df-quickchart {\n",
              "      --bg-color: #3B4455;\n",
              "      --fill-color: #D2E3FC;\n",
              "      --hover-bg-color: #434B5C;\n",
              "      --hover-fill-color: #FFFFFF;\n",
              "      --disabled-bg-color: #3B4455;\n",
              "      --disabled-fill-color: #666;\n",
              "  }\n",
              "\n",
              "  .colab-df-quickchart {\n",
              "    background-color: var(--bg-color);\n",
              "    border: none;\n",
              "    border-radius: 50%;\n",
              "    cursor: pointer;\n",
              "    display: none;\n",
              "    fill: var(--fill-color);\n",
              "    height: 32px;\n",
              "    padding: 0;\n",
              "    width: 32px;\n",
              "  }\n",
              "\n",
              "  .colab-df-quickchart:hover {\n",
              "    background-color: var(--hover-bg-color);\n",
              "    box-shadow: 0 1px 2px rgba(60, 64, 67, 0.3), 0 1px 3px 1px rgba(60, 64, 67, 0.15);\n",
              "    fill: var(--button-hover-fill-color);\n",
              "  }\n",
              "\n",
              "  .colab-df-quickchart-complete:disabled,\n",
              "  .colab-df-quickchart-complete:disabled:hover {\n",
              "    background-color: var(--disabled-bg-color);\n",
              "    fill: var(--disabled-fill-color);\n",
              "    box-shadow: none;\n",
              "  }\n",
              "\n",
              "  .colab-df-spinner {\n",
              "    border: 2px solid var(--fill-color);\n",
              "    border-color: transparent;\n",
              "    border-bottom-color: var(--fill-color);\n",
              "    animation:\n",
              "      spin 1s steps(1) infinite;\n",
              "  }\n",
              "\n",
              "  @keyframes spin {\n",
              "    0% {\n",
              "      border-color: transparent;\n",
              "      border-bottom-color: var(--fill-color);\n",
              "      border-left-color: var(--fill-color);\n",
              "    }\n",
              "    20% {\n",
              "      border-color: transparent;\n",
              "      border-left-color: var(--fill-color);\n",
              "      border-top-color: var(--fill-color);\n",
              "    }\n",
              "    30% {\n",
              "      border-color: transparent;\n",
              "      border-left-color: var(--fill-color);\n",
              "      border-top-color: var(--fill-color);\n",
              "      border-right-color: var(--fill-color);\n",
              "    }\n",
              "    40% {\n",
              "      border-color: transparent;\n",
              "      border-right-color: var(--fill-color);\n",
              "      border-top-color: var(--fill-color);\n",
              "    }\n",
              "    60% {\n",
              "      border-color: transparent;\n",
              "      border-right-color: var(--fill-color);\n",
              "    }\n",
              "    80% {\n",
              "      border-color: transparent;\n",
              "      border-right-color: var(--fill-color);\n",
              "      border-bottom-color: var(--fill-color);\n",
              "    }\n",
              "    90% {\n",
              "      border-color: transparent;\n",
              "      border-bottom-color: var(--fill-color);\n",
              "    }\n",
              "  }\n",
              "</style>\n",
              "\n",
              "  <script>\n",
              "    async function quickchart(key) {\n",
              "      const quickchartButtonEl =\n",
              "        document.querySelector('#' + key + ' button');\n",
              "      quickchartButtonEl.disabled = true;  // To prevent multiple clicks.\n",
              "      quickchartButtonEl.classList.add('colab-df-spinner');\n",
              "      try {\n",
              "        const charts = await google.colab.kernel.invokeFunction(\n",
              "            'suggestCharts', [key], {});\n",
              "      } catch (error) {\n",
              "        console.error('Error during call to suggestCharts:', error);\n",
              "      }\n",
              "      quickchartButtonEl.classList.remove('colab-df-spinner');\n",
              "      quickchartButtonEl.classList.add('colab-df-quickchart-complete');\n",
              "    }\n",
              "    (() => {\n",
              "      let quickchartButtonEl =\n",
              "        document.querySelector('#df-b5493a68-0edf-422f-b895-e1d256c2f293 button');\n",
              "      quickchartButtonEl.style.display =\n",
              "        google.colab.kernel.accessAllowed ? 'block' : 'none';\n",
              "    })();\n",
              "  </script>\n",
              "</div>\n",
              "    </div>\n",
              "  </div>\n"
            ]
          },
          "metadata": {},
          "execution_count": 25
        }
      ],
      "source": [
        "# import the data\n",
        "satscore = pd.read_csv('/content/drive/MyDrive/SATVerbal1.csv')\n",
        "satscore.head()"
      ]
    },
    {
      "cell_type": "code",
      "execution_count": 26,
      "metadata": {
        "colab": {
          "base_uri": "https://localhost:8080/"
        },
        "id": "I5ZaAJuwwslO",
        "outputId": "be65fe70-07f5-4a35-ec11-540c439d8205"
      },
      "outputs": [
        {
          "output_type": "stream",
          "name": "stdout",
          "text": [
            "The mean SAT verbal score for College group is 525.0\n",
            "The mean SAT verbal score for High School group is 480.0\n",
            "The standard deviation of SAT verbal score for College group is 59.42\n",
            "The standard deviation of SAT verbal score for High School group is 31.1\n"
          ]
        }
      ],
      "source": [
        "# find the sample means and sample standard deviations for the two samples\n",
        "print('The mean SAT verbal score for College group is ' + str(satscore['College'].mean()))\n",
        "print('The mean SAT verbal score for High School group is ' + str(satscore['High School'].mean()))\n",
        "print('The standard deviation of SAT verbal score for College group is ' + str(round(satscore['College'].std(), 2)))\n",
        "print('The standard deviation of SAT verbal score for High School group is ' + str(round(satscore['High School'].std(), 2)))"
      ]
    },
    {
      "cell_type": "markdown",
      "metadata": {
        "id": "llTtGBvx6WeR"
      },
      "source": [
        "### Let's test whether the T-test assumptions are satisfied or not\n",
        "\n",
        "* Continuous data - Yes, the SAT score is measured on a continuous scale.\n",
        "* Normally distributed populations - Yes, we are informed that the populations are assumed to be normal.\n",
        "* Independent populations - As we are taking random samples for two different groups, the two samples are from two independent populations.\n",
        "* Unequal population standard deviations - As the sample standard deviations are different, the population standard deviations may be assumed to be different.\n",
        "* Random sampling from the population - Yes, we are informed that the collected sample a simple random sample.\n",
        "\n",
        "Voila! We can use two sample T-test for this problem.\n",
        "\n"
      ]
    },
    {
      "cell_type": "markdown",
      "metadata": {
        "id": "FLK0t0VL6vMg"
      },
      "source": [
        "### Let's find the p-value"
      ]
    },
    {
      "cell_type": "code",
      "execution_count": 27,
      "metadata": {
        "colab": {
          "base_uri": "https://localhost:8080/"
        },
        "id": "aXKIJXB66wCU",
        "outputId": "fcfd1d6d-c348-4ede-a410-88836e095c98"
      },
      "outputs": [
        {
          "output_type": "stream",
          "name": "stdout",
          "text": [
            "The p-value is  0.008034956026490195\n"
          ]
        }
      ],
      "source": [
        "#import the required functions\n",
        "from scipy.stats import ttest_ind\n",
        "\n",
        "# find the p-value\n",
        "test_stat, p_value = ttest_ind(satscore['College'], satscore['High School'].dropna(), equal_var = False, alternative = 'greater')\n",
        "print('The p-value is ', p_value)"
      ]
    },
    {
      "cell_type": "markdown",
      "metadata": {
        "id": "7xvyDESl8GXn"
      },
      "source": [
        "### Insight\n",
        "As the p-value (~0.008) is less than the level of significance, we can reject the null hypothesis. Hence, we do have enough evidence to support the claim that students show a higher population mean verbal score on SAT if their parents attain a higher level of education."
      ]
    },
    {
      "cell_type": "markdown",
      "metadata": {
        "id": "8JUAO2IjvNyb"
      },
      "source": [
        "# <a name='link9'>**Paired Sample T-test for Equality of Means**</a>"
      ]
    },
    {
      "cell_type": "markdown",
      "metadata": {
        "id": "sK3hszBz2kFZ"
      },
      "source": [
        "### Let's revisit the example\n",
        "Typical prices of single-family homes in Florida are given for a sample of 15 metropolitan areas (in 1000 USD) for 2002 and 2003 in a CSV file.\n",
        "\n",
        "Assuming the house prices are normally distributed, do we have enough statistical evidence to say that there is an increase in the house price in one year at 0.05 significance level?"
      ]
    },
    {
      "cell_type": "markdown",
      "metadata": {
        "id": "d6oqinL-6-JW"
      },
      "source": [
        "### Let's write the null and alternative hypothesis\n",
        "\n",
        "Let $\\mu_1, \\mu_2$ be the mean price of single-family homes in metropolitan areas of Florida for 2002 and 2003 respectively.\n",
        "\n",
        "We want to test whether there is an increase in the house price from 2002 to 2003.\n",
        "\n",
        "We will test the null hypothesis\n",
        "\n",
        ">$H_0:\\mu_1=\\mu_2$\n",
        "\n",
        "against the alternate hypothesis\n",
        "\n",
        ">$H_a:\\mu_1<\\mu_2$"
      ]
    },
    {
      "cell_type": "markdown",
      "metadata": {
        "id": "6Bi_wT8h8_A1"
      },
      "source": [
        "### Let's have a look on the sample data"
      ]
    },
    {
      "cell_type": "code",
      "execution_count": 28,
      "metadata": {
        "colab": {
          "base_uri": "https://localhost:8080/",
          "height": 206
        },
        "id": "z47av-s1Arni",
        "outputId": "522252dd-94e6-4c7c-cf0e-cb7ecc7ef726"
      },
      "outputs": [
        {
          "output_type": "execute_result",
          "data": {
            "text/plain": [
              "   Metropolitan Area  Jan_2003  Jan_2002\n",
              "0      Daytona Beach       117        96\n",
              "1    Fort Lauderdale       207       169\n",
              "2         Fort Myers       143       129\n",
              "3  Fort Walton Beach       139       134\n",
              "4        Gainesville       131       119"
            ],
            "text/html": [
              "\n",
              "  <div id=\"df-6d25481a-a47a-40c4-85bf-d888781f7531\" class=\"colab-df-container\">\n",
              "    <div>\n",
              "<style scoped>\n",
              "    .dataframe tbody tr th:only-of-type {\n",
              "        vertical-align: middle;\n",
              "    }\n",
              "\n",
              "    .dataframe tbody tr th {\n",
              "        vertical-align: top;\n",
              "    }\n",
              "\n",
              "    .dataframe thead th {\n",
              "        text-align: right;\n",
              "    }\n",
              "</style>\n",
              "<table border=\"1\" class=\"dataframe\">\n",
              "  <thead>\n",
              "    <tr style=\"text-align: right;\">\n",
              "      <th></th>\n",
              "      <th>Metropolitan Area</th>\n",
              "      <th>Jan_2003</th>\n",
              "      <th>Jan_2002</th>\n",
              "    </tr>\n",
              "  </thead>\n",
              "  <tbody>\n",
              "    <tr>\n",
              "      <th>0</th>\n",
              "      <td>Daytona Beach</td>\n",
              "      <td>117</td>\n",
              "      <td>96</td>\n",
              "    </tr>\n",
              "    <tr>\n",
              "      <th>1</th>\n",
              "      <td>Fort Lauderdale</td>\n",
              "      <td>207</td>\n",
              "      <td>169</td>\n",
              "    </tr>\n",
              "    <tr>\n",
              "      <th>2</th>\n",
              "      <td>Fort Myers</td>\n",
              "      <td>143</td>\n",
              "      <td>129</td>\n",
              "    </tr>\n",
              "    <tr>\n",
              "      <th>3</th>\n",
              "      <td>Fort Walton Beach</td>\n",
              "      <td>139</td>\n",
              "      <td>134</td>\n",
              "    </tr>\n",
              "    <tr>\n",
              "      <th>4</th>\n",
              "      <td>Gainesville</td>\n",
              "      <td>131</td>\n",
              "      <td>119</td>\n",
              "    </tr>\n",
              "  </tbody>\n",
              "</table>\n",
              "</div>\n",
              "    <div class=\"colab-df-buttons\">\n",
              "\n",
              "  <div class=\"colab-df-container\">\n",
              "    <button class=\"colab-df-convert\" onclick=\"convertToInteractive('df-6d25481a-a47a-40c4-85bf-d888781f7531')\"\n",
              "            title=\"Convert this dataframe to an interactive table.\"\n",
              "            style=\"display:none;\">\n",
              "\n",
              "  <svg xmlns=\"http://www.w3.org/2000/svg\" height=\"24px\" viewBox=\"0 -960 960 960\">\n",
              "    <path d=\"M120-120v-720h720v720H120Zm60-500h600v-160H180v160Zm220 220h160v-160H400v160Zm0 220h160v-160H400v160ZM180-400h160v-160H180v160Zm440 0h160v-160H620v160ZM180-180h160v-160H180v160Zm440 0h160v-160H620v160Z\"/>\n",
              "  </svg>\n",
              "    </button>\n",
              "\n",
              "  <style>\n",
              "    .colab-df-container {\n",
              "      display:flex;\n",
              "      gap: 12px;\n",
              "    }\n",
              "\n",
              "    .colab-df-convert {\n",
              "      background-color: #E8F0FE;\n",
              "      border: none;\n",
              "      border-radius: 50%;\n",
              "      cursor: pointer;\n",
              "      display: none;\n",
              "      fill: #1967D2;\n",
              "      height: 32px;\n",
              "      padding: 0 0 0 0;\n",
              "      width: 32px;\n",
              "    }\n",
              "\n",
              "    .colab-df-convert:hover {\n",
              "      background-color: #E2EBFA;\n",
              "      box-shadow: 0px 1px 2px rgba(60, 64, 67, 0.3), 0px 1px 3px 1px rgba(60, 64, 67, 0.15);\n",
              "      fill: #174EA6;\n",
              "    }\n",
              "\n",
              "    .colab-df-buttons div {\n",
              "      margin-bottom: 4px;\n",
              "    }\n",
              "\n",
              "    [theme=dark] .colab-df-convert {\n",
              "      background-color: #3B4455;\n",
              "      fill: #D2E3FC;\n",
              "    }\n",
              "\n",
              "    [theme=dark] .colab-df-convert:hover {\n",
              "      background-color: #434B5C;\n",
              "      box-shadow: 0px 1px 3px 1px rgba(0, 0, 0, 0.15);\n",
              "      filter: drop-shadow(0px 1px 2px rgba(0, 0, 0, 0.3));\n",
              "      fill: #FFFFFF;\n",
              "    }\n",
              "  </style>\n",
              "\n",
              "    <script>\n",
              "      const buttonEl =\n",
              "        document.querySelector('#df-6d25481a-a47a-40c4-85bf-d888781f7531 button.colab-df-convert');\n",
              "      buttonEl.style.display =\n",
              "        google.colab.kernel.accessAllowed ? 'block' : 'none';\n",
              "\n",
              "      async function convertToInteractive(key) {\n",
              "        const element = document.querySelector('#df-6d25481a-a47a-40c4-85bf-d888781f7531');\n",
              "        const dataTable =\n",
              "          await google.colab.kernel.invokeFunction('convertToInteractive',\n",
              "                                                    [key], {});\n",
              "        if (!dataTable) return;\n",
              "\n",
              "        const docLinkHtml = 'Like what you see? Visit the ' +\n",
              "          '<a target=\"_blank\" href=https://colab.research.google.com/notebooks/data_table.ipynb>data table notebook</a>'\n",
              "          + ' to learn more about interactive tables.';\n",
              "        element.innerHTML = '';\n",
              "        dataTable['output_type'] = 'display_data';\n",
              "        await google.colab.output.renderOutput(dataTable, element);\n",
              "        const docLink = document.createElement('div');\n",
              "        docLink.innerHTML = docLinkHtml;\n",
              "        element.appendChild(docLink);\n",
              "      }\n",
              "    </script>\n",
              "  </div>\n",
              "\n",
              "\n",
              "<div id=\"df-44811503-9c34-4233-bed3-ab94e6e6be22\">\n",
              "  <button class=\"colab-df-quickchart\" onclick=\"quickchart('df-44811503-9c34-4233-bed3-ab94e6e6be22')\"\n",
              "            title=\"Suggest charts\"\n",
              "            style=\"display:none;\">\n",
              "\n",
              "<svg xmlns=\"http://www.w3.org/2000/svg\" height=\"24px\"viewBox=\"0 0 24 24\"\n",
              "     width=\"24px\">\n",
              "    <g>\n",
              "        <path d=\"M19 3H5c-1.1 0-2 .9-2 2v14c0 1.1.9 2 2 2h14c1.1 0 2-.9 2-2V5c0-1.1-.9-2-2-2zM9 17H7v-7h2v7zm4 0h-2V7h2v10zm4 0h-2v-4h2v4z\"/>\n",
              "    </g>\n",
              "</svg>\n",
              "  </button>\n",
              "\n",
              "<style>\n",
              "  .colab-df-quickchart {\n",
              "      --bg-color: #E8F0FE;\n",
              "      --fill-color: #1967D2;\n",
              "      --hover-bg-color: #E2EBFA;\n",
              "      --hover-fill-color: #174EA6;\n",
              "      --disabled-fill-color: #AAA;\n",
              "      --disabled-bg-color: #DDD;\n",
              "  }\n",
              "\n",
              "  [theme=dark] .colab-df-quickchart {\n",
              "      --bg-color: #3B4455;\n",
              "      --fill-color: #D2E3FC;\n",
              "      --hover-bg-color: #434B5C;\n",
              "      --hover-fill-color: #FFFFFF;\n",
              "      --disabled-bg-color: #3B4455;\n",
              "      --disabled-fill-color: #666;\n",
              "  }\n",
              "\n",
              "  .colab-df-quickchart {\n",
              "    background-color: var(--bg-color);\n",
              "    border: none;\n",
              "    border-radius: 50%;\n",
              "    cursor: pointer;\n",
              "    display: none;\n",
              "    fill: var(--fill-color);\n",
              "    height: 32px;\n",
              "    padding: 0;\n",
              "    width: 32px;\n",
              "  }\n",
              "\n",
              "  .colab-df-quickchart:hover {\n",
              "    background-color: var(--hover-bg-color);\n",
              "    box-shadow: 0 1px 2px rgba(60, 64, 67, 0.3), 0 1px 3px 1px rgba(60, 64, 67, 0.15);\n",
              "    fill: var(--button-hover-fill-color);\n",
              "  }\n",
              "\n",
              "  .colab-df-quickchart-complete:disabled,\n",
              "  .colab-df-quickchart-complete:disabled:hover {\n",
              "    background-color: var(--disabled-bg-color);\n",
              "    fill: var(--disabled-fill-color);\n",
              "    box-shadow: none;\n",
              "  }\n",
              "\n",
              "  .colab-df-spinner {\n",
              "    border: 2px solid var(--fill-color);\n",
              "    border-color: transparent;\n",
              "    border-bottom-color: var(--fill-color);\n",
              "    animation:\n",
              "      spin 1s steps(1) infinite;\n",
              "  }\n",
              "\n",
              "  @keyframes spin {\n",
              "    0% {\n",
              "      border-color: transparent;\n",
              "      border-bottom-color: var(--fill-color);\n",
              "      border-left-color: var(--fill-color);\n",
              "    }\n",
              "    20% {\n",
              "      border-color: transparent;\n",
              "      border-left-color: var(--fill-color);\n",
              "      border-top-color: var(--fill-color);\n",
              "    }\n",
              "    30% {\n",
              "      border-color: transparent;\n",
              "      border-left-color: var(--fill-color);\n",
              "      border-top-color: var(--fill-color);\n",
              "      border-right-color: var(--fill-color);\n",
              "    }\n",
              "    40% {\n",
              "      border-color: transparent;\n",
              "      border-right-color: var(--fill-color);\n",
              "      border-top-color: var(--fill-color);\n",
              "    }\n",
              "    60% {\n",
              "      border-color: transparent;\n",
              "      border-right-color: var(--fill-color);\n",
              "    }\n",
              "    80% {\n",
              "      border-color: transparent;\n",
              "      border-right-color: var(--fill-color);\n",
              "      border-bottom-color: var(--fill-color);\n",
              "    }\n",
              "    90% {\n",
              "      border-color: transparent;\n",
              "      border-bottom-color: var(--fill-color);\n",
              "    }\n",
              "  }\n",
              "</style>\n",
              "\n",
              "  <script>\n",
              "    async function quickchart(key) {\n",
              "      const quickchartButtonEl =\n",
              "        document.querySelector('#' + key + ' button');\n",
              "      quickchartButtonEl.disabled = true;  // To prevent multiple clicks.\n",
              "      quickchartButtonEl.classList.add('colab-df-spinner');\n",
              "      try {\n",
              "        const charts = await google.colab.kernel.invokeFunction(\n",
              "            'suggestCharts', [key], {});\n",
              "      } catch (error) {\n",
              "        console.error('Error during call to suggestCharts:', error);\n",
              "      }\n",
              "      quickchartButtonEl.classList.remove('colab-df-spinner');\n",
              "      quickchartButtonEl.classList.add('colab-df-quickchart-complete');\n",
              "    }\n",
              "    (() => {\n",
              "      let quickchartButtonEl =\n",
              "        document.querySelector('#df-44811503-9c34-4233-bed3-ab94e6e6be22 button');\n",
              "      quickchartButtonEl.style.display =\n",
              "        google.colab.kernel.accessAllowed ? 'block' : 'none';\n",
              "    })();\n",
              "  </script>\n",
              "</div>\n",
              "    </div>\n",
              "  </div>\n"
            ]
          },
          "metadata": {},
          "execution_count": 28
        }
      ],
      "source": [
        "# import the data\n",
        "houseprice = pd.read_csv('/content/drive/MyDrive/Florida.csv')\n",
        "houseprice.head()"
      ]
    },
    {
      "cell_type": "code",
      "execution_count": 29,
      "metadata": {
        "colab": {
          "base_uri": "https://localhost:8080/"
        },
        "id": "5IE49UrKBjpO",
        "outputId": "03e27aef-11ea-40b5-9c92-f89c318edb54"
      },
      "outputs": [
        {
          "output_type": "stream",
          "name": "stdout",
          "text": [
            "The mean of the differences between the house prices from 2003 to 2002 15.0\n"
          ]
        }
      ],
      "source": [
        "# find the mean difference between the house prices from 2003 to 2002\n",
        "diff = np.mean(houseprice['Jan_2003'] - houseprice['Jan_2002'])\n",
        "print('The mean of the differences between the house prices from 2003 to 2002', diff)"
      ]
    },
    {
      "cell_type": "markdown",
      "metadata": {
        "id": "0ZKt050TClTi"
      },
      "source": [
        "### Let's test whether the paired T-test assumptions are satisfied or not\n",
        "\n",
        "* Continuous data - Yes, the house price is measured on a continuous scale.\n",
        "* Normally distributed populations - Yes, we are informed that the populations are assumed to be normal.\n",
        "* Independent observations - As we are taking the sampled unit randomly, the observed units are independent.\n",
        "* Random sampling from the population - Yes, we are informed that the collected sample is a simple random sample.\n",
        "\n",
        "Voila! We can use paired sample T-test for this problem.\n",
        "\n"
      ]
    },
    {
      "cell_type": "markdown",
      "metadata": {
        "id": "geoF6g58DIpN"
      },
      "source": [
        "### Let's find the p-value"
      ]
    },
    {
      "cell_type": "code",
      "execution_count": 30,
      "metadata": {
        "colab": {
          "base_uri": "https://localhost:8080/"
        },
        "id": "b_OSS4ljDL4V",
        "outputId": "f56f3eb8-2500-4f79-d7b6-c584bfaf4ab2"
      },
      "outputs": [
        {
          "output_type": "stream",
          "name": "stdout",
          "text": [
            "The p-value is  8.282698151615477e-05\n"
          ]
        }
      ],
      "source": [
        "#import the required functions\n",
        "from scipy.stats import ttest_rel\n",
        "\n",
        "# find the p-value\n",
        "test_stat, p_value = ttest_rel(houseprice['Jan_2002'], houseprice['Jan_2003'], alternative = 'less')\n",
        "print('The p-value is ', p_value)"
      ]
    },
    {
      "cell_type": "markdown",
      "metadata": {
        "id": "x2ZLqCVRKeO8"
      },
      "source": [
        "### Insight\n",
        "As the p-value is much less than the level of significance, the null hypothesis can be rejected. Thus, it may be concluded that there is enough statistical evidence to conclude that there is an increase in the price from 2002 to 2003."
      ]
    },
    {
      "cell_type": "markdown",
      "metadata": {
        "id": "7fKq990WGyjJ"
      },
      "source": [
        "\n",
        "# <a name='link10'>**One Proportion Z-test**</a>\n",
        "\n",
        "### Let's revisit the example\n",
        "\n",
        "A researcher claims that Democratic party will win in the next United States Presidential election.\n",
        "\n",
        "To test her belief the researcher randomly surveyed 90 people and 24 out of them said that they voted for Democratic party.\n",
        "\n",
        "Is there enough evidence at 𝛂 = 0.05 to support this claim?\n"
      ]
    },
    {
      "cell_type": "markdown",
      "metadata": {
        "id": "TR0HTVFNP0rI"
      },
      "source": [
        "### Let's write the null and alternative hypothesis\n",
        "Let $p$ be the proportion of people who voted for Democratic party.\n",
        "\n",
        "The researcher will test the null hypothesis\n",
        "\n",
        ">$H_0:p \\leq 0.5$\n",
        "\n",
        "against the alternate hypothesis\n",
        "\n",
        ">$H_a:p > 0.5$"
      ]
    },
    {
      "cell_type": "markdown",
      "metadata": {
        "id": "8mVMkj0EQ4sW"
      },
      "source": [
        "### Let's test whether the Z-test assumptions are satisfied or not\n",
        "\n",
        "*   Binomally distributed population - Yes, people either vote for Democratic or Republic party\n",
        "*   Random sampling from the population - Yes, the researcher conducted a random survey\n",
        "*   Can the binomial distribution approximated to normal distribution - Yes. For binary data, CLT works slower than usual. The standard thing is to check whether np and n(1-p) are greater than or equal to 10.\n",
        ">$np = 90\\cdot \\frac{24}{90} =24 \\geq 10\\\\\n",
        "n(1-p) = 90 \\cdot \\frac{90-24}{90} =66 \\geq 10$\n"
      ]
    },
    {
      "cell_type": "markdown",
      "metadata": {
        "id": "MUf9drG-ZzQV"
      },
      "source": [
        "### Let's find the p-value"
      ]
    },
    {
      "cell_type": "code",
      "execution_count": 31,
      "metadata": {
        "colab": {
          "base_uri": "https://localhost:8080/"
        },
        "id": "kj47KnHHYZov",
        "outputId": "ebfe12f7-2043-48f7-aecd-46a00ccb1264"
      },
      "outputs": [
        {
          "output_type": "stream",
          "name": "stdout",
          "text": [
            "The p-value is 0.9999997216721324\n"
          ]
        }
      ],
      "source": [
        "# import the required fuction\n",
        "from statsmodels.stats.proportion import proportions_ztest\n",
        "\n",
        "# find the p-value\n",
        "test_stat, p_value = proportions_ztest(24, 90, value = 0.5, alternative = 'larger')\n",
        "print('The p-value is ' + str(p_value))"
      ]
    },
    {
      "cell_type": "markdown",
      "metadata": {
        "id": "OdpMB1Qocutc"
      },
      "source": [
        "### Insight\n",
        "\n",
        "As the p-value is much greater than the significance level 0.05, we can not reject the null hypothesis. Thus, the researcher do not have enough statistical significance to claim that Democratic party will win in the next United States Presidential election at 5% significance level."
      ]
    },
    {
      "cell_type": "markdown",
      "metadata": {
        "id": "WvHJiRuF6guQ"
      },
      "source": [
        "# <a name='link11'>**Two Proportion Z-test**</a>"
      ]
    },
    {
      "cell_type": "markdown",
      "metadata": {
        "id": "cn-dYLgzF69x"
      },
      "source": [
        "### Let's revisit the example\n",
        "\n",
        "A car manufacturer aims to improve its products’ quality by reducing the defects. So, the manufacturer randomly checks the efficiency of two assembly lines in the shop floor. In line 1, there are 20 defects out of 200 samples and In line 2, there are 25 defects out of 400 samples.\n",
        "\n",
        "At 5% level of significance, do we have enough statistical evidence to conclude that the two assembly procedures are different?\n"
      ]
    },
    {
      "cell_type": "markdown",
      "metadata": {
        "id": "2YCkHK12HreW"
      },
      "source": [
        "### Let's write the null and alternative hypothesis\n",
        "Let $p_1,p_2$ be the proportions of defects in assembly line 1 and line 2 respectively.\n",
        "\n",
        "The manufacturer will test the null hypothesis\n",
        "\n",
        ">$H_0:p_1 =p_2$\n",
        "\n",
        "against the alternate hypothesis\n",
        "\n",
        ">$H_a:p_1 \\neq p_2$"
      ]
    },
    {
      "cell_type": "markdown",
      "metadata": {
        "id": "7c5hHivhKZUM"
      },
      "source": [
        "### Let's test whether the Z-test assumptions are satisfied or not\n",
        "\n",
        "*   Binomally distributed population - Yes, a product is either defective or non-defective.\n",
        "*   Random sampling from the population - Yes, we are informed that the collected sample is a simple random sample.  \n",
        "*   Can the binomial distribution approximated to normal distribution - Yes. For binary data, CLT works slower than usual. The standard thing is to check whether np and n(1-p) are greater than or equal to 10.\n",
        ">$np_1 = 200\\cdot \\frac{20}{200} =20 \\geq 10\\\\\n",
        "n(1-p_1) = 200 \\cdot \\frac{200-20}{200} =180 \\geq 10 \\\\\n",
        "np_2 = 400\\cdot \\frac{25}{400} =25 \\geq 10\\\\\n",
        "n(1-p_2) = 400 \\cdot \\frac{400-25}{375} =375 \\geq 10 $\n"
      ]
    },
    {
      "cell_type": "markdown",
      "metadata": {
        "id": "hHGP8KFiLdJ2"
      },
      "source": [
        "### Let's find the p-value"
      ]
    },
    {
      "cell_type": "code",
      "execution_count": 32,
      "metadata": {
        "colab": {
          "base_uri": "https://localhost:8080/"
        },
        "id": "4EoLlJA4LkzN",
        "outputId": "4f5ac570-d905-4884-a5a4-aefc7caa210e"
      },
      "outputs": [
        {
          "output_type": "stream",
          "name": "stdout",
          "text": [
            "The p-value is 0.10017829422626796\n"
          ]
        }
      ],
      "source": [
        "# import the required fuction\n",
        "from statsmodels.stats.proportion import proportions_ztest\n",
        "\n",
        "# set the counts of defective items\n",
        "defect_count = np.array([20, 25])\n",
        "\n",
        "# set the sample sizes\n",
        "nobs = np.array([200, 400])\n",
        "\n",
        "# find the p-value\n",
        "test_stat, p_value = proportions_ztest(defect_count, nobs)\n",
        "print('The p-value is ' + str(p_value))"
      ]
    },
    {
      "cell_type": "markdown",
      "metadata": {
        "id": "IVjQs0SWNQQv"
      },
      "source": [
        "### Insight\n",
        "\n",
        "As the p-value is greater than the significance level 0.05, we can not reject the null hypothesis. Thus, the manufacturer do not have enough statistical significance to conclude thet the two assembly procedures are different."
      ]
    },
    {
      "cell_type": "markdown",
      "metadata": {
        "id": "qc1Cy9re6q1w"
      },
      "source": [
        "# <a name='link12'>**Chi-Square Test for Variance**</a>"
      ]
    },
    {
      "cell_type": "markdown",
      "metadata": {
        "id": "G9tlnF6ZXOvM"
      },
      "source": [
        "\n",
        "\n",
        "### Let's revisit an example\n",
        "It is conjectured that the standard deviation for the annual return of mid cap mutual funds is 22.4%, when all such funds are considered and over a long period of time. The sample standard deviation of a certain mid cap mutual fund based on a random sample of size 32 is observed to be 26.4%.\n",
        "\n",
        "Do we have enough evidence to claim that the standard deviation of the chosen mutual fund is greater than the conjectured standard deviation for mid cap mutual funds at 0.05 level of significance?\n",
        "\n"
      ]
    },
    {
      "cell_type": "markdown",
      "metadata": {
        "id": "jgP0uEqFflBw"
      },
      "source": [
        "### Let's write the null and alternative hypothesis\n",
        "Let $\\sigma$ be the average standard deviation of the mutual funds.\n",
        "\n",
        "We will test the null hypothesis\n",
        "\n",
        ">$H_0:\\sigma^2 = 26.4^2$\n",
        "\n",
        "against the alternate hypothesis\n",
        "\n",
        ">$H_a:\\sigma^2 > 26.4^2$"
      ]
    },
    {
      "cell_type": "markdown",
      "metadata": {
        "id": "yYWQiK5Ehtug"
      },
      "source": [
        "### Let's test whether the assumptions are satisfied or not\n",
        "\n",
        "* Continuous data - Yes\n",
        "* Normally distributed population - Since the sample sizes are greater than 30, Central Limit Theorem states that the distribution of sample means will be normal.\n",
        "* Random sampling from the population - Yes, we are informed that the collected sample is a simple random sample.   \n"
      ]
    },
    {
      "cell_type": "markdown",
      "metadata": {
        "id": "PbH-SLqriUcm"
      },
      "source": [
        "### Let's find the p-value"
      ]
    },
    {
      "cell_type": "code",
      "execution_count": 33,
      "metadata": {
        "colab": {
          "base_uri": "https://localhost:8080/"
        },
        "id": "Jso7skFviYr2",
        "outputId": "ad0034b6-bbfe-4635-996c-339f5448fbd4"
      },
      "outputs": [
        {
          "output_type": "stream",
          "name": "stdout",
          "text": [
            "The p-value is  0.0733923626973344\n"
          ]
        }
      ],
      "source": [
        "#import the required function\n",
        "from scipy.stats import chi2\n",
        "\n",
        "# user-defined function to get the test stat and p-value\n",
        "def chi_var(pop_var, sample_var, n):\n",
        "  # calculate the test statistic\n",
        "  test_stat = (n - 1) * sample_var / pop_var\n",
        "  # calculate the p-value\n",
        "  p_value = 1 - chi2.cdf(test_stat, n-1)\n",
        "  return (test_stat, p_value)\n",
        "\n",
        "# set the value of sample size\n",
        "n = 32\n",
        "# set the values of population and sample variance\n",
        "sigma_2, s_2 = 22.4**2, 26.4**2\n",
        "\n",
        "test_stat, p_value = chi_var(sigma_2, s_2, n)\n",
        "\n",
        "print('The p-value is ', p_value)"
      ]
    },
    {
      "cell_type": "markdown",
      "metadata": {
        "id": "AW4hJK7D_Fv8"
      },
      "source": [
        "### Let's plot the test statistic distribution with the test statistic"
      ]
    },
    {
      "cell_type": "code",
      "execution_count": 34,
      "metadata": {
        "colab": {
          "base_uri": "https://localhost:8080/",
          "height": 430
        },
        "id": "JFhfROer_U13",
        "outputId": "2d3c0435-eab8-4265-ca64-5bf8ea364b0b"
      },
      "outputs": [
        {
          "output_type": "display_data",
          "data": {
            "text/plain": [
              "<Figure size 640x480 with 1 Axes>"
            ],
            "image/png": "[encoded data removed]"
          },
          "metadata": {}
        }
      ],
      "source": [
        "# plot the chi square distribution (degrees of freedom n-1) with test statistic\n",
        "x = np.linspace(0, 100, 100)\n",
        "plt.plot(x, chi2.pdf(x, n-1))\n",
        "plt.axvline(x = test_stat, c = 'r')\n",
        "plt.show()"
      ]
    },
    {
      "cell_type": "markdown",
      "metadata": {
        "id": "37fXFQTln_5r"
      },
      "source": [
        "### Insight\n",
        "As the p-value is greater than the significance level, we can not reject the null hypothesis. Hence, we do not have enough statistical significance to conclude that the standard deviation of the chosen mutual fund is greater than the average standard deviation for mid cap mutual funds at 0.05 level of significance."
      ]
    },
    {
      "cell_type": "markdown",
      "metadata": {
        "id": "BFROKrmE6975"
      },
      "source": [
        "# <a name='link13'>**F-test for Equality of Variances**</a>"
      ]
    },
    {
      "cell_type": "markdown",
      "metadata": {
        "id": "8cIrDvcq5f1-"
      },
      "source": [
        "\n",
        "\n",
        "### Let's revisit the example\n",
        "\n",
        "The variance of a process is an important quality of the process. A large variance implies that the process needs better control and there is opportunity to improve.\n",
        "\n",
        "\n",
        "The data (Bags.csv) includes weights for two different sets of bags manufactured from two different machines. It is assumed that the weights for two sets of bags follow normal distribution.\n",
        "\n",
        "Do we have enough statistical evidence at 5% significance level  to conclude that there is a significant difference between the variances of the bag weights for the two machines.\n",
        "\n"
      ]
    },
    {
      "cell_type": "markdown",
      "metadata": {
        "id": "KupIZV2zDhmT"
      },
      "source": [
        "### Let's write the null and alternative hypothesis\n",
        "Let $\\sigma_1^2, \\sigma_2^2$ be the variances of weights of the bags produced by two different machines.\n",
        "\n",
        "We will test the null hypothesis\n",
        "\n",
        ">$H_0:\\sigma_1^2 = \\sigma_2^2$\n",
        "\n",
        "against the alternate hypothesis\n",
        "\n",
        ">$H_a:\\sigma_1^2 \\neq \\sigma_2^2$"
      ]
    },
    {
      "cell_type": "markdown",
      "metadata": {
        "id": "ibuZ0DGDIEuW"
      },
      "source": [
        "### Let's test whether the assumptions are satisfied or not\n",
        "\n",
        "* Continuous data - Yes, the weight is measured on a continuous scale.\n",
        "* Normally distributed populations - Yes, it is assumed that the populations are normally distributed.\n",
        "* Independent populations - As the two sets of bags are manufactured from two different machines, the populations are indepedent.\n",
        "* Random sampling from the population - Yes, we are informed that the collected sample is a simple random sample.\n"
      ]
    },
    {
      "cell_type": "markdown",
      "metadata": {
        "id": "O7_5T3R_IoM3"
      },
      "source": [
        "### Let's have a look on the sample data"
      ]
    },
    {
      "cell_type": "code",
      "execution_count": 40,
      "metadata": {
        "colab": {
          "base_uri": "https://localhost:8080/",
          "height": 206
        },
        "id": "7hU-UWjSbM2d",
        "outputId": "2f8be820-7775-4805-b1da-ff5c2cac6f7c"
      },
      "outputs": [
        {
          "output_type": "execute_result",
          "data": {
            "text/plain": [
              "   Machine 1  Machine 2\n",
              "0       2.95       3.22\n",
              "1       3.45       3.30\n",
              "2       3.50       3.34\n",
              "3       3.75       3.28\n",
              "4       3.48       3.29"
            ],
            "text/html": [
              "\n",
              "  <div id=\"df-14bbf375-f835-4deb-acb6-a16cd8f2ead4\" class=\"colab-df-container\">\n",
              "    <div>\n",
              "<style scoped>\n",
              "    .dataframe tbody tr th:only-of-type {\n",
              "        vertical-align: middle;\n",
              "    }\n",
              "\n",
              "    .dataframe tbody tr th {\n",
              "        vertical-align: top;\n",
              "    }\n",
              "\n",
              "    .dataframe thead th {\n",
              "        text-align: right;\n",
              "    }\n",
              "</style>\n",
              "<table border=\"1\" class=\"dataframe\">\n",
              "  <thead>\n",
              "    <tr style=\"text-align: right;\">\n",
              "      <th></th>\n",
              "      <th>Machine 1</th>\n",
              "      <th>Machine 2</th>\n",
              "    </tr>\n",
              "  </thead>\n",
              "  <tbody>\n",
              "    <tr>\n",
              "      <th>0</th>\n",
              "      <td>2.95</td>\n",
              "      <td>3.22</td>\n",
              "    </tr>\n",
              "    <tr>\n",
              "      <th>1</th>\n",
              "      <td>3.45</td>\n",
              "      <td>3.30</td>\n",
              "    </tr>\n",
              "    <tr>\n",
              "      <th>2</th>\n",
              "      <td>3.50</td>\n",
              "      <td>3.34</td>\n",
              "    </tr>\n",
              "    <tr>\n",
              "      <th>3</th>\n",
              "      <td>3.75</td>\n",
              "      <td>3.28</td>\n",
              "    </tr>\n",
              "    <tr>\n",
              "      <th>4</th>\n",
              "      <td>3.48</td>\n",
              "      <td>3.29</td>\n",
              "    </tr>\n",
              "  </tbody>\n",
              "</table>\n",
              "</div>\n",
              "    <div class=\"colab-df-buttons\">\n",
              "\n",
              "  <div class=\"colab-df-container\">\n",
              "    <button class=\"colab-df-convert\" onclick=\"convertToInteractive('df-14bbf375-f835-4deb-acb6-a16cd8f2ead4')\"\n",
              "            title=\"Convert this dataframe to an interactive table.\"\n",
              "            style=\"display:none;\">\n",
              "\n",
              "  <svg xmlns=\"http://www.w3.org/2000/svg\" height=\"24px\" viewBox=\"0 -960 960 960\">\n",
              "    <path d=\"M120-120v-720h720v720H120Zm60-500h600v-160H180v160Zm220 220h160v-160H400v160Zm0 220h160v-160H400v160ZM180-400h160v-160H180v160Zm440 0h160v-160H620v160ZM180-180h160v-160H180v160Zm440 0h160v-160H620v160Z\"/>\n",
              "  </svg>\n",
              "    </button>\n",
              "\n",
              "  <style>\n",
              "    .colab-df-container {\n",
              "      display:flex;\n",
              "      gap: 12px;\n",
              "    }\n",
              "\n",
              "    .colab-df-convert {\n",
              "      background-color: #E8F0FE;\n",
              "      border: none;\n",
              "      border-radius: 50%;\n",
              "      cursor: pointer;\n",
              "      display: none;\n",
              "      fill: #1967D2;\n",
              "      height: 32px;\n",
              "      padding: 0 0 0 0;\n",
              "      width: 32px;\n",
              "    }\n",
              "\n",
              "    .colab-df-convert:hover {\n",
              "      background-color: #E2EBFA;\n",
              "      box-shadow: 0px 1px 2px rgba(60, 64, 67, 0.3), 0px 1px 3px 1px rgba(60, 64, 67, 0.15);\n",
              "      fill: #174EA6;\n",
              "    }\n",
              "\n",
              "    .colab-df-buttons div {\n",
              "      margin-bottom: 4px;\n",
              "    }\n",
              "\n",
              "    [theme=dark] .colab-df-convert {\n",
              "      background-color: #3B4455;\n",
              "      fill: #D2E3FC;\n",
              "    }\n",
              "\n",
              "    [theme=dark] .colab-df-convert:hover {\n",
              "      background-color: #434B5C;\n",
              "      box-shadow: 0px 1px 3px 1px rgba(0, 0, 0, 0.15);\n",
              "      filter: drop-shadow(0px 1px 2px rgba(0, 0, 0, 0.3));\n",
              "      fill: #FFFFFF;\n",
              "    }\n",
              "  </style>\n",
              "\n",
              "    <script>\n",
              "      const buttonEl =\n",
              "        document.querySelector('#df-14bbf375-f835-4deb-acb6-a16cd8f2ead4 button.colab-df-convert');\n",
              "      buttonEl.style.display =\n",
              "        google.colab.kernel.accessAllowed ? 'block' : 'none';\n",
              "\n",
              "      async function convertToInteractive(key) {\n",
              "        const element = document.querySelector('#df-14bbf375-f835-4deb-acb6-a16cd8f2ead4');\n",
              "        const dataTable =\n",
              "          await google.colab.kernel.invokeFunction('convertToInteractive',\n",
              "                                                    [key], {});\n",
              "        if (!dataTable) return;\n",
              "\n",
              "        const docLinkHtml = 'Like what you see? Visit the ' +\n",
              "          '<a target=\"_blank\" href=https://colab.research.google.com/notebooks/data_table.ipynb>data table notebook</a>'\n",
              "          + ' to learn more about interactive tables.';\n",
              "        element.innerHTML = '';\n",
              "        dataTable['output_type'] = 'display_data';\n",
              "        await google.colab.output.renderOutput(dataTable, element);\n",
              "        const docLink = document.createElement('div');\n",
              "        docLink.innerHTML = docLinkHtml;\n",
              "        element.appendChild(docLink);\n",
              "      }\n",
              "    </script>\n",
              "  </div>\n",
              "\n",
              "\n",
              "<div id=\"df-e985c9e0-9667-42c6-bdef-5d0f832e1a13\">\n",
              "  <button class=\"colab-df-quickchart\" onclick=\"quickchart('df-e985c9e0-9667-42c6-bdef-5d0f832e1a13')\"\n",
              "            title=\"Suggest charts\"\n",
              "            style=\"display:none;\">\n",
              "\n",
              "<svg xmlns=\"http://www.w3.org/2000/svg\" height=\"24px\"viewBox=\"0 0 24 24\"\n",
              "     width=\"24px\">\n",
              "    <g>\n",
              "        <path d=\"M19 3H5c-1.1 0-2 .9-2 2v14c0 1.1.9 2 2 2h14c1.1 0 2-.9 2-2V5c0-1.1-.9-2-2-2zM9 17H7v-7h2v7zm4 0h-2V7h2v10zm4 0h-2v-4h2v4z\"/>\n",
              "    </g>\n",
              "</svg>\n",
              "  </button>\n",
              "\n",
              "<style>\n",
              "  .colab-df-quickchart {\n",
              "      --bg-color: #E8F0FE;\n",
              "      --fill-color: #1967D2;\n",
              "      --hover-bg-color: #E2EBFA;\n",
              "      --hover-fill-color: #174EA6;\n",
              "      --disabled-fill-color: #AAA;\n",
              "      --disabled-bg-color: #DDD;\n",
              "  }\n",
              "\n",
              "  [theme=dark] .colab-df-quickchart {\n",
              "      --bg-color: #3B4455;\n",
              "      --fill-color: #D2E3FC;\n",
              "      --hover-bg-color: #434B5C;\n",
              "      --hover-fill-color: #FFFFFF;\n",
              "      --disabled-bg-color: #3B4455;\n",
              "      --disabled-fill-color: #666;\n",
              "  }\n",
              "\n",
              "  .colab-df-quickchart {\n",
              "    background-color: var(--bg-color);\n",
              "    border: none;\n",
              "    border-radius: 50%;\n",
              "    cursor: pointer;\n",
              "    display: none;\n",
              "    fill: var(--fill-color);\n",
              "    height: 32px;\n",
              "    padding: 0;\n",
              "    width: 32px;\n",
              "  }\n",
              "\n",
              "  .colab-df-quickchart:hover {\n",
              "    background-color: var(--hover-bg-color);\n",
              "    box-shadow: 0 1px 2px rgba(60, 64, 67, 0.3), 0 1px 3px 1px rgba(60, 64, 67, 0.15);\n",
              "    fill: var(--button-hover-fill-color);\n",
              "  }\n",
              "\n",
              "  .colab-df-quickchart-complete:disabled,\n",
              "  .colab-df-quickchart-complete:disabled:hover {\n",
              "    background-color: var(--disabled-bg-color);\n",
              "    fill: var(--disabled-fill-color);\n",
              "    box-shadow: none;\n",
              "  }\n",
              "\n",
              "  .colab-df-spinner {\n",
              "    border: 2px solid var(--fill-color);\n",
              "    border-color: transparent;\n",
              "    border-bottom-color: var(--fill-color);\n",
              "    animation:\n",
              "      spin 1s steps(1) infinite;\n",
              "  }\n",
              "\n",
              "  @keyframes spin {\n",
              "    0% {\n",
              "      border-color: transparent;\n",
              "      border-bottom-color: var(--fill-color);\n",
              "      border-left-color: var(--fill-color);\n",
              "    }\n",
              "    20% {\n",
              "      border-color: transparent;\n",
              "      border-left-color: var(--fill-color);\n",
              "      border-top-color: var(--fill-color);\n",
              "    }\n",
              "    30% {\n",
              "      border-color: transparent;\n",
              "      border-left-color: var(--fill-color);\n",
              "      border-top-color: var(--fill-color);\n",
              "      border-right-color: var(--fill-color);\n",
              "    }\n",
              "    40% {\n",
              "      border-color: transparent;\n",
              "      border-right-color: var(--fill-color);\n",
              "      border-top-color: var(--fill-color);\n",
              "    }\n",
              "    60% {\n",
              "      border-color: transparent;\n",
              "      border-right-color: var(--fill-color);\n",
              "    }\n",
              "    80% {\n",
              "      border-color: transparent;\n",
              "      border-right-color: var(--fill-color);\n",
              "      border-bottom-color: var(--fill-color);\n",
              "    }\n",
              "    90% {\n",
              "      border-color: transparent;\n",
              "      border-bottom-color: var(--fill-color);\n",
              "    }\n",
              "  }\n",
              "</style>\n",
              "\n",
              "  <script>\n",
              "    async function quickchart(key) {\n",
              "      const quickchartButtonEl =\n",
              "        document.querySelector('#' + key + ' button');\n",
              "      quickchartButtonEl.disabled = true;  // To prevent multiple clicks.\n",
              "      quickchartButtonEl.classList.add('colab-df-spinner');\n",
              "      try {\n",
              "        const charts = await google.colab.kernel.invokeFunction(\n",
              "            'suggestCharts', [key], {});\n",
              "      } catch (error) {\n",
              "        console.error('Error during call to suggestCharts:', error);\n",
              "      }\n",
              "      quickchartButtonEl.classList.remove('colab-df-spinner');\n",
              "      quickchartButtonEl.classList.add('colab-df-quickchart-complete');\n",
              "    }\n",
              "    (() => {\n",
              "      let quickchartButtonEl =\n",
              "        document.querySelector('#df-e985c9e0-9667-42c6-bdef-5d0f832e1a13 button');\n",
              "      quickchartButtonEl.style.display =\n",
              "        google.colab.kernel.accessAllowed ? 'block' : 'none';\n",
              "    })();\n",
              "  </script>\n",
              "</div>\n",
              "    </div>\n",
              "  </div>\n"
            ]
          },
          "metadata": {},
          "execution_count": 40
        }
      ],
      "source": [
        "bagweight = pd.read_csv('/content/drive/MyDrive/Bags.csv')\n",
        "bagweight.head()"
      ]
    },
    {
      "cell_type": "markdown",
      "metadata": {
        "id": "8LI-d8TAblYi"
      },
      "source": [
        "### Let's find the p-value"
      ]
    },
    {
      "cell_type": "code",
      "execution_count": 41,
      "metadata": {
        "colab": {
          "base_uri": "https://localhost:8080/"
        },
        "id": "QqPr1D8KbqOq",
        "outputId": "d6e2c425-9a9f-4102-ea0b-bed5f72965c4"
      },
      "outputs": [
        {
          "output_type": "stream",
          "name": "stdout",
          "text": [
            "The p_value is 2.55e-06\n"
          ]
        }
      ],
      "source": [
        "# import the required function\n",
        "from scipy.stats import f\n",
        "\n",
        "# user-defined function to perform F-test\n",
        "def f_test(x, y):\n",
        "  x = np.array(x)\n",
        "  y = np.array(y)\n",
        "  test_stat = np.var(x, ddof=1)/np.var(y, ddof=1) #calculate F test statistic\n",
        "  dfn = x.size-1 #define degrees of freedom numerator\n",
        "  dfd = y.size-1 #define degrees of freedom denominator\n",
        "  p = (1 - f.cdf(test_stat, dfn, dfd)) # find p-value of F test statistic\n",
        "  p1 = p*2 # Converting one-tail to two-tail test\n",
        "  return(print(\"The p_value is {}\" .format(round(p,8))))\n",
        "\n",
        "#perform F-test\n",
        "f_test(bagweight.dropna()['Machine 1'], bagweight.dropna()['Machine 2'])"
      ]
    },
    {
      "cell_type": "code",
      "execution_count": 41,
      "metadata": {
        "id": "Id7RnflMu56m"
      },
      "outputs": [],
      "source": []
    },
    {
      "cell_type": "markdown",
      "metadata": {
        "id": "CUHnA3-hdvMO"
      },
      "source": [
        "### Insight\n",
        "As the p-value is much smaller than the level of significance, the null hypothesis can be rejected. Hence, we have enough statistical evidence to conclude that there is a difference between the bag weights for the two machines at 0.05 significance level."
      ]
    },
    {
      "cell_type": "markdown",
      "metadata": {
        "id": "2xnmLq677KkA"
      },
      "source": [
        "# <a name='link14'>**Chi-Square Test for Independence**</a>"
      ]
    },
    {
      "cell_type": "markdown",
      "metadata": {
        "id": "mU0SDjKyeUcR"
      },
      "source": [
        "### Let's revisit the example\n",
        "\n",
        "The beverage preference data for different age groups has given in the Beverage.csv file.\n",
        "\n",
        "Do we have enough statistical evidence to conclude that beverage preference depend on age.\n",
        "\n"
      ]
    },
    {
      "cell_type": "markdown",
      "metadata": {
        "id": "pqjXDxvwe-Io"
      },
      "source": [
        "### Let's have a look on the sample data"
      ]
    },
    {
      "cell_type": "code",
      "execution_count": 42,
      "metadata": {
        "colab": {
          "base_uri": "https://localhost:8080/",
          "height": 143
        },
        "id": "D5ADnSRofStd",
        "outputId": "00ac254d-21e0-452f-b22b-28a9d2be0f08"
      },
      "outputs": [
        {
          "output_type": "execute_result",
          "data": {
            "text/plain": [
              "       Age  Tea/Coffee  Soft Drink  Others\n",
              "0  21 - 34          25          90      20\n",
              "1  35 - 55          40          35      25\n",
              "2     > 55          24          15      30"
            ],
            "text/html": [
              "\n",
              "  <div id=\"df-d13815a2-cad2-4032-b438-25bbcaecebf4\" class=\"colab-df-container\">\n",
              "    <div>\n",
              "<style scoped>\n",
              "    .dataframe tbody tr th:only-of-type {\n",
              "        vertical-align: middle;\n",
              "    }\n",
              "\n",
              "    .dataframe tbody tr th {\n",
              "        vertical-align: top;\n",
              "    }\n",
              "\n",
              "    .dataframe thead th {\n",
              "        text-align: right;\n",
              "    }\n",
              "</style>\n",
              "<table border=\"1\" class=\"dataframe\">\n",
              "  <thead>\n",
              "    <tr style=\"text-align: right;\">\n",
              "      <th></th>\n",
              "      <th>Age</th>\n",
              "      <th>Tea/Coffee</th>\n",
              "      <th>Soft Drink</th>\n",
              "      <th>Others</th>\n",
              "    </tr>\n",
              "  </thead>\n",
              "  <tbody>\n",
              "    <tr>\n",
              "      <th>0</th>\n",
              "      <td>21 - 34</td>\n",
              "      <td>25</td>\n",
              "      <td>90</td>\n",
              "      <td>20</td>\n",
              "    </tr>\n",
              "    <tr>\n",
              "      <th>1</th>\n",
              "      <td>35 - 55</td>\n",
              "      <td>40</td>\n",
              "      <td>35</td>\n",
              "      <td>25</td>\n",
              "    </tr>\n",
              "    <tr>\n",
              "      <th>2</th>\n",
              "      <td>&gt; 55</td>\n",
              "      <td>24</td>\n",
              "      <td>15</td>\n",
              "      <td>30</td>\n",
              "    </tr>\n",
              "  </tbody>\n",
              "</table>\n",
              "</div>\n",
              "    <div class=\"colab-df-buttons\">\n",
              "\n",
              "  <div class=\"colab-df-container\">\n",
              "    <button class=\"colab-df-convert\" onclick=\"convertToInteractive('df-d13815a2-cad2-4032-b438-25bbcaecebf4')\"\n",
              "            title=\"Convert this dataframe to an interactive table.\"\n",
              "            style=\"display:none;\">\n",
              "\n",
              "  <svg xmlns=\"http://www.w3.org/2000/svg\" height=\"24px\" viewBox=\"0 -960 960 960\">\n",
              "    <path d=\"M120-120v-720h720v720H120Zm60-500h600v-160H180v160Zm220 220h160v-160H400v160Zm0 220h160v-160H400v160ZM180-400h160v-160H180v160Zm440 0h160v-160H620v160ZM180-180h160v-160H180v160Zm440 0h160v-160H620v160Z\"/>\n",
              "  </svg>\n",
              "    </button>\n",
              "\n",
              "  <style>\n",
              "    .colab-df-container {\n",
              "      display:flex;\n",
              "      gap: 12px;\n",
              "    }\n",
              "\n",
              "    .colab-df-convert {\n",
              "      background-color: #E8F0FE;\n",
              "      border: none;\n",
              "      border-radius: 50%;\n",
              "      cursor: pointer;\n",
              "      display: none;\n",
              "      fill: #1967D2;\n",
              "      height: 32px;\n",
              "      padding: 0 0 0 0;\n",
              "      width: 32px;\n",
              "    }\n",
              "\n",
              "    .colab-df-convert:hover {\n",
              "      background-color: #E2EBFA;\n",
              "      box-shadow: 0px 1px 2px rgba(60, 64, 67, 0.3), 0px 1px 3px 1px rgba(60, 64, 67, 0.15);\n",
              "      fill: #174EA6;\n",
              "    }\n",
              "\n",
              "    .colab-df-buttons div {\n",
              "      margin-bottom: 4px;\n",
              "    }\n",
              "\n",
              "    [theme=dark] .colab-df-convert {\n",
              "      background-color: #3B4455;\n",
              "      fill: #D2E3FC;\n",
              "    }\n",
              "\n",
              "    [theme=dark] .colab-df-convert:hover {\n",
              "      background-color: #434B5C;\n",
              "      box-shadow: 0px 1px 3px 1px rgba(0, 0, 0, 0.15);\n",
              "      filter: drop-shadow(0px 1px 2px rgba(0, 0, 0, 0.3));\n",
              "      fill: #FFFFFF;\n",
              "    }\n",
              "  </style>\n",
              "\n",
              "    <script>\n",
              "      const buttonEl =\n",
              "        document.querySelector('#df-d13815a2-cad2-4032-b438-25bbcaecebf4 button.colab-df-convert');\n",
              "      buttonEl.style.display =\n",
              "        google.colab.kernel.accessAllowed ? 'block' : 'none';\n",
              "\n",
              "      async function convertToInteractive(key) {\n",
              "        const element = document.querySelector('#df-d13815a2-cad2-4032-b438-25bbcaecebf4');\n",
              "        const dataTable =\n",
              "          await google.colab.kernel.invokeFunction('convertToInteractive',\n",
              "                                                    [key], {});\n",
              "        if (!dataTable) return;\n",
              "\n",
              "        const docLinkHtml = 'Like what you see? Visit the ' +\n",
              "          '<a target=\"_blank\" href=https://colab.research.google.com/notebooks/data_table.ipynb>data table notebook</a>'\n",
              "          + ' to learn more about interactive tables.';\n",
              "        element.innerHTML = '';\n",
              "        dataTable['output_type'] = 'display_data';\n",
              "        await google.colab.output.renderOutput(dataTable, element);\n",
              "        const docLink = document.createElement('div');\n",
              "        docLink.innerHTML = docLinkHtml;\n",
              "        element.appendChild(docLink);\n",
              "      }\n",
              "    </script>\n",
              "  </div>\n",
              "\n",
              "\n",
              "<div id=\"df-3783df92-87e4-45b1-a88a-bc1aed870a7c\">\n",
              "  <button class=\"colab-df-quickchart\" onclick=\"quickchart('df-3783df92-87e4-45b1-a88a-bc1aed870a7c')\"\n",
              "            title=\"Suggest charts\"\n",
              "            style=\"display:none;\">\n",
              "\n",
              "<svg xmlns=\"http://www.w3.org/2000/svg\" height=\"24px\"viewBox=\"0 0 24 24\"\n",
              "     width=\"24px\">\n",
              "    <g>\n",
              "        <path d=\"M19 3H5c-1.1 0-2 .9-2 2v14c0 1.1.9 2 2 2h14c1.1 0 2-.9 2-2V5c0-1.1-.9-2-2-2zM9 17H7v-7h2v7zm4 0h-2V7h2v10zm4 0h-2v-4h2v4z\"/>\n",
              "    </g>\n",
              "</svg>\n",
              "  </button>\n",
              "\n",
              "<style>\n",
              "  .colab-df-quickchart {\n",
              "      --bg-color: #E8F0FE;\n",
              "      --fill-color: #1967D2;\n",
              "      --hover-bg-color: #E2EBFA;\n",
              "      --hover-fill-color: #174EA6;\n",
              "      --disabled-fill-color: #AAA;\n",
              "      --disabled-bg-color: #DDD;\n",
              "  }\n",
              "\n",
              "  [theme=dark] .colab-df-quickchart {\n",
              "      --bg-color: #3B4455;\n",
              "      --fill-color: #D2E3FC;\n",
              "      --hover-bg-color: #434B5C;\n",
              "      --hover-fill-color: #FFFFFF;\n",
              "      --disabled-bg-color: #3B4455;\n",
              "      --disabled-fill-color: #666;\n",
              "  }\n",
              "\n",
              "  .colab-df-quickchart {\n",
              "    background-color: var(--bg-color);\n",
              "    border: none;\n",
              "    border-radius: 50%;\n",
              "    cursor: pointer;\n",
              "    display: none;\n",
              "    fill: var(--fill-color);\n",
              "    height: 32px;\n",
              "    padding: 0;\n",
              "    width: 32px;\n",
              "  }\n",
              "\n",
              "  .colab-df-quickchart:hover {\n",
              "    background-color: var(--hover-bg-color);\n",
              "    box-shadow: 0 1px 2px rgba(60, 64, 67, 0.3), 0 1px 3px 1px rgba(60, 64, 67, 0.15);\n",
              "    fill: var(--button-hover-fill-color);\n",
              "  }\n",
              "\n",
              "  .colab-df-quickchart-complete:disabled,\n",
              "  .colab-df-quickchart-complete:disabled:hover {\n",
              "    background-color: var(--disabled-bg-color);\n",
              "    fill: var(--disabled-fill-color);\n",
              "    box-shadow: none;\n",
              "  }\n",
              "\n",
              "  .colab-df-spinner {\n",
              "    border: 2px solid var(--fill-color);\n",
              "    border-color: transparent;\n",
              "    border-bottom-color: var(--fill-color);\n",
              "    animation:\n",
              "      spin 1s steps(1) infinite;\n",
              "  }\n",
              "\n",
              "  @keyframes spin {\n",
              "    0% {\n",
              "      border-color: transparent;\n",
              "      border-bottom-color: var(--fill-color);\n",
              "      border-left-color: var(--fill-color);\n",
              "    }\n",
              "    20% {\n",
              "      border-color: transparent;\n",
              "      border-left-color: var(--fill-color);\n",
              "      border-top-color: var(--fill-color);\n",
              "    }\n",
              "    30% {\n",
              "      border-color: transparent;\n",
              "      border-left-color: var(--fill-color);\n",
              "      border-top-color: var(--fill-color);\n",
              "      border-right-color: var(--fill-color);\n",
              "    }\n",
              "    40% {\n",
              "      border-color: transparent;\n",
              "      border-right-color: var(--fill-color);\n",
              "      border-top-color: var(--fill-color);\n",
              "    }\n",
              "    60% {\n",
              "      border-color: transparent;\n",
              "      border-right-color: var(--fill-color);\n",
              "    }\n",
              "    80% {\n",
              "      border-color: transparent;\n",
              "      border-right-color: var(--fill-color);\n",
              "      border-bottom-color: var(--fill-color);\n",
              "    }\n",
              "    90% {\n",
              "      border-color: transparent;\n",
              "      border-bottom-color: var(--fill-color);\n",
              "    }\n",
              "  }\n",
              "</style>\n",
              "\n",
              "  <script>\n",
              "    async function quickchart(key) {\n",
              "      const quickchartButtonEl =\n",
              "        document.querySelector('#' + key + ' button');\n",
              "      quickchartButtonEl.disabled = true;  // To prevent multiple clicks.\n",
              "      quickchartButtonEl.classList.add('colab-df-spinner');\n",
              "      try {\n",
              "        const charts = await google.colab.kernel.invokeFunction(\n",
              "            'suggestCharts', [key], {});\n",
              "      } catch (error) {\n",
              "        console.error('Error during call to suggestCharts:', error);\n",
              "      }\n",
              "      quickchartButtonEl.classList.remove('colab-df-spinner');\n",
              "      quickchartButtonEl.classList.add('colab-df-quickchart-complete');\n",
              "    }\n",
              "    (() => {\n",
              "      let quickchartButtonEl =\n",
              "        document.querySelector('#df-3783df92-87e4-45b1-a88a-bc1aed870a7c button');\n",
              "      quickchartButtonEl.style.display =\n",
              "        google.colab.kernel.accessAllowed ? 'block' : 'none';\n",
              "    })();\n",
              "  </script>\n",
              "</div>\n",
              "    </div>\n",
              "  </div>\n"
            ]
          },
          "metadata": {},
          "execution_count": 42
        }
      ],
      "source": [
        "beverage = pd.read_csv('/content/drive/MyDrive/Beverage.csv')\n",
        "beverage.head()"
      ]
    },
    {
      "cell_type": "markdown",
      "metadata": {
        "id": "9BL1dzNufjcm"
      },
      "source": [
        "### Let's write the null and alternative hypothesis\n",
        "\n",
        "\n",
        "We will test the null hypothesis\n",
        "\n",
        ">$H_0:$ Beverage preference is independent of age.\n",
        "\n",
        "against the alternate hypothesis\n",
        "\n",
        ">$H_a:$ Beverage preference depends on age."
      ]
    },
    {
      "cell_type": "markdown",
      "metadata": {
        "id": "ITiDm4GMgEnt"
      },
      "source": [
        "### Let's test whether the assumptions are satisfied or not\n",
        "\n",
        "* Categorical variables - Yes\n",
        "* Expected value of the number of sample observations in each level of the variable is at least 5 - Yes, the number of observations in each level is greater than 5.\n",
        "* Random sampling from the population - Yes, we are informed that the collected sample is a simple random sample.\n"
      ]
    },
    {
      "cell_type": "markdown",
      "metadata": {
        "id": "no52O-10HQ4h"
      },
      "source": [
        "### Let's find the p-value"
      ]
    },
    {
      "cell_type": "code",
      "execution_count": 43,
      "metadata": {
        "colab": {
          "base_uri": "https://localhost:8080/"
        },
        "id": "qUPCXOomHXX7",
        "outputId": "51f58120-026b-4a00-dd8a-e4bb968d7066"
      },
      "outputs": [
        {
          "output_type": "stream",
          "name": "stdout",
          "text": [
            "The p-value is 5.410957050304089e-10\n"
          ]
        }
      ],
      "source": [
        "# import the required function\n",
        "from scipy.stats import chi2_contingency\n",
        "\n",
        "# find the p-value\n",
        "chi, p_value, dof, expected = chi2_contingency(beverage.drop('Age', axis = 1))\n",
        "print('The p-value is', p_value)"
      ]
    },
    {
      "cell_type": "markdown",
      "metadata": {
        "id": "YAb4fDcmJIpQ"
      },
      "source": [
        "### Insight\n",
        "As the p-value is much less than the significance level, we can reject the null hypothesis. Hence, we do have enough statistical significance to conclude that beverage preference is not independent of age at 5% significance level."
      ]
    },
    {
      "cell_type": "markdown",
      "metadata": {
        "id": "7ZLntwM_WcK2"
      },
      "source": [
        "# <a name='link15'>**One-way Anova Test**</a>"
      ]
    },
    {
      "cell_type": "markdown",
      "metadata": {
        "id": "qxvEn474b25J"
      },
      "source": [
        "### Let's revisit the example\n",
        "\n",
        "Traffic management inspector in a certain city wants to understand whether carbon emissions from different cars are different. The inspector has reasons to believe that Fuel type may be the factors responsible for differences in carbon emission.\n",
        "\n",
        "For this purpose, the inspector has taken random samples from all registered cars on the road in that city and would like to test if the amount of carbon emission release depends on fuel type at 5% significance level."
      ]
    },
    {
      "cell_type": "markdown",
      "metadata": {
        "id": "lFMixr_Af40Q"
      },
      "source": [
        "### Let's have a look on the sample data"
      ]
    },
    {
      "cell_type": "code",
      "execution_count": 44,
      "metadata": {
        "colab": {
          "base_uri": "https://localhost:8080/",
          "height": 206
        },
        "id": "ab3mUcIxgKeH",
        "outputId": "1396539e-cd15-4e3e-9412-cea33d746a6a"
      },
      "outputs": [
        {
          "output_type": "execute_result",
          "data": {
            "text/plain": [
              "   Car_ID manufacturer fuel_type  co_emissions\n",
              "0       1         Audi    Petrol        441.55\n",
              "1       2          BMW       E85        376.47\n",
              "2       3          BMW       E85        414.12\n",
              "3       4          BMW       E85        351.41\n",
              "4       5        Volvo       E85        284.59"
            ],
            "text/html": [
              "\n",
              "  <div id=\"df-48127519-2ac2-4022-b99f-2a2c6d43d510\" class=\"colab-df-container\">\n",
              "    <div>\n",
              "<style scoped>\n",
              "    .dataframe tbody tr th:only-of-type {\n",
              "        vertical-align: middle;\n",
              "    }\n",
              "\n",
              "    .dataframe tbody tr th {\n",
              "        vertical-align: top;\n",
              "    }\n",
              "\n",
              "    .dataframe thead th {\n",
              "        text-align: right;\n",
              "    }\n",
              "</style>\n",
              "<table border=\"1\" class=\"dataframe\">\n",
              "  <thead>\n",
              "    <tr style=\"text-align: right;\">\n",
              "      <th></th>\n",
              "      <th>Car_ID</th>\n",
              "      <th>manufacturer</th>\n",
              "      <th>fuel_type</th>\n",
              "      <th>co_emissions</th>\n",
              "    </tr>\n",
              "  </thead>\n",
              "  <tbody>\n",
              "    <tr>\n",
              "      <th>0</th>\n",
              "      <td>1</td>\n",
              "      <td>Audi</td>\n",
              "      <td>Petrol</td>\n",
              "      <td>441.55</td>\n",
              "    </tr>\n",
              "    <tr>\n",
              "      <th>1</th>\n",
              "      <td>2</td>\n",
              "      <td>BMW</td>\n",
              "      <td>E85</td>\n",
              "      <td>376.47</td>\n",
              "    </tr>\n",
              "    <tr>\n",
              "      <th>2</th>\n",
              "      <td>3</td>\n",
              "      <td>BMW</td>\n",
              "      <td>E85</td>\n",
              "      <td>414.12</td>\n",
              "    </tr>\n",
              "    <tr>\n",
              "      <th>3</th>\n",
              "      <td>4</td>\n",
              "      <td>BMW</td>\n",
              "      <td>E85</td>\n",
              "      <td>351.41</td>\n",
              "    </tr>\n",
              "    <tr>\n",
              "      <th>4</th>\n",
              "      <td>5</td>\n",
              "      <td>Volvo</td>\n",
              "      <td>E85</td>\n",
              "      <td>284.59</td>\n",
              "    </tr>\n",
              "  </tbody>\n",
              "</table>\n",
              "</div>\n",
              "    <div class=\"colab-df-buttons\">\n",
              "\n",
              "  <div class=\"colab-df-container\">\n",
              "    <button class=\"colab-df-convert\" onclick=\"convertToInteractive('df-48127519-2ac2-4022-b99f-2a2c6d43d510')\"\n",
              "            title=\"Convert this dataframe to an interactive table.\"\n",
              "            style=\"display:none;\">\n",
              "\n",
              "  <svg xmlns=\"http://www.w3.org/2000/svg\" height=\"24px\" viewBox=\"0 -960 960 960\">\n",
              "    <path d=\"M120-120v-720h720v720H120Zm60-500h600v-160H180v160Zm220 220h160v-160H400v160Zm0 220h160v-160H400v160ZM180-400h160v-160H180v160Zm440 0h160v-160H620v160ZM180-180h160v-160H180v160Zm440 0h160v-160H620v160Z\"/>\n",
              "  </svg>\n",
              "    </button>\n",
              "\n",
              "  <style>\n",
              "    .colab-df-container {\n",
              "      display:flex;\n",
              "      gap: 12px;\n",
              "    }\n",
              "\n",
              "    .colab-df-convert {\n",
              "      background-color: #E8F0FE;\n",
              "      border: none;\n",
              "      border-radius: 50%;\n",
              "      cursor: pointer;\n",
              "      display: none;\n",
              "      fill: #1967D2;\n",
              "      height: 32px;\n",
              "      padding: 0 0 0 0;\n",
              "      width: 32px;\n",
              "    }\n",
              "\n",
              "    .colab-df-convert:hover {\n",
              "      background-color: #E2EBFA;\n",
              "      box-shadow: 0px 1px 2px rgba(60, 64, 67, 0.3), 0px 1px 3px 1px rgba(60, 64, 67, 0.15);\n",
              "      fill: #174EA6;\n",
              "    }\n",
              "\n",
              "    .colab-df-buttons div {\n",
              "      margin-bottom: 4px;\n",
              "    }\n",
              "\n",
              "    [theme=dark] .colab-df-convert {\n",
              "      background-color: #3B4455;\n",
              "      fill: #D2E3FC;\n",
              "    }\n",
              "\n",
              "    [theme=dark] .colab-df-convert:hover {\n",
              "      background-color: #434B5C;\n",
              "      box-shadow: 0px 1px 3px 1px rgba(0, 0, 0, 0.15);\n",
              "      filter: drop-shadow(0px 1px 2px rgba(0, 0, 0, 0.3));\n",
              "      fill: #FFFFFF;\n",
              "    }\n",
              "  </style>\n",
              "\n",
              "    <script>\n",
              "      const buttonEl =\n",
              "        document.querySelector('#df-48127519-2ac2-4022-b99f-2a2c6d43d510 button.colab-df-convert');\n",
              "      buttonEl.style.display =\n",
              "        google.colab.kernel.accessAllowed ? 'block' : 'none';\n",
              "\n",
              "      async function convertToInteractive(key) {\n",
              "        const element = document.querySelector('#df-48127519-2ac2-4022-b99f-2a2c6d43d510');\n",
              "        const dataTable =\n",
              "          await google.colab.kernel.invokeFunction('convertToInteractive',\n",
              "                                                    [key], {});\n",
              "        if (!dataTable) return;\n",
              "\n",
              "        const docLinkHtml = 'Like what you see? Visit the ' +\n",
              "          '<a target=\"_blank\" href=https://colab.research.google.com/notebooks/data_table.ipynb>data table notebook</a>'\n",
              "          + ' to learn more about interactive tables.';\n",
              "        element.innerHTML = '';\n",
              "        dataTable['output_type'] = 'display_data';\n",
              "        await google.colab.output.renderOutput(dataTable, element);\n",
              "        const docLink = document.createElement('div');\n",
              "        docLink.innerHTML = docLinkHtml;\n",
              "        element.appendChild(docLink);\n",
              "      }\n",
              "    </script>\n",
              "  </div>\n",
              "\n",
              "\n",
              "<div id=\"df-61078309-a940-46e0-a19a-fd706f788640\">\n",
              "  <button class=\"colab-df-quickchart\" onclick=\"quickchart('df-61078309-a940-46e0-a19a-fd706f788640')\"\n",
              "            title=\"Suggest charts\"\n",
              "            style=\"display:none;\">\n",
              "\n",
              "<svg xmlns=\"http://www.w3.org/2000/svg\" height=\"24px\"viewBox=\"0 0 24 24\"\n",
              "     width=\"24px\">\n",
              "    <g>\n",
              "        <path d=\"M19 3H5c-1.1 0-2 .9-2 2v14c0 1.1.9 2 2 2h14c1.1 0 2-.9 2-2V5c0-1.1-.9-2-2-2zM9 17H7v-7h2v7zm4 0h-2V7h2v10zm4 0h-2v-4h2v4z\"/>\n",
              "    </g>\n",
              "</svg>\n",
              "  </button>\n",
              "\n",
              "<style>\n",
              "  .colab-df-quickchart {\n",
              "      --bg-color: #E8F0FE;\n",
              "      --fill-color: #1967D2;\n",
              "      --hover-bg-color: #E2EBFA;\n",
              "      --hover-fill-color: #174EA6;\n",
              "      --disabled-fill-color: #AAA;\n",
              "      --disabled-bg-color: #DDD;\n",
              "  }\n",
              "\n",
              "  [theme=dark] .colab-df-quickchart {\n",
              "      --bg-color: #3B4455;\n",
              "      --fill-color: #D2E3FC;\n",
              "      --hover-bg-color: #434B5C;\n",
              "      --hover-fill-color: #FFFFFF;\n",
              "      --disabled-bg-color: #3B4455;\n",
              "      --disabled-fill-color: #666;\n",
              "  }\n",
              "\n",
              "  .colab-df-quickchart {\n",
              "    background-color: var(--bg-color);\n",
              "    border: none;\n",
              "    border-radius: 50%;\n",
              "    cursor: pointer;\n",
              "    display: none;\n",
              "    fill: var(--fill-color);\n",
              "    height: 32px;\n",
              "    padding: 0;\n",
              "    width: 32px;\n",
              "  }\n",
              "\n",
              "  .colab-df-quickchart:hover {\n",
              "    background-color: var(--hover-bg-color);\n",
              "    box-shadow: 0 1px 2px rgba(60, 64, 67, 0.3), 0 1px 3px 1px rgba(60, 64, 67, 0.15);\n",
              "    fill: var(--button-hover-fill-color);\n",
              "  }\n",
              "\n",
              "  .colab-df-quickchart-complete:disabled,\n",
              "  .colab-df-quickchart-complete:disabled:hover {\n",
              "    background-color: var(--disabled-bg-color);\n",
              "    fill: var(--disabled-fill-color);\n",
              "    box-shadow: none;\n",
              "  }\n",
              "\n",
              "  .colab-df-spinner {\n",
              "    border: 2px solid var(--fill-color);\n",
              "    border-color: transparent;\n",
              "    border-bottom-color: var(--fill-color);\n",
              "    animation:\n",
              "      spin 1s steps(1) infinite;\n",
              "  }\n",
              "\n",
              "  @keyframes spin {\n",
              "    0% {\n",
              "      border-color: transparent;\n",
              "      border-bottom-color: var(--fill-color);\n",
              "      border-left-color: var(--fill-color);\n",
              "    }\n",
              "    20% {\n",
              "      border-color: transparent;\n",
              "      border-left-color: var(--fill-color);\n",
              "      border-top-color: var(--fill-color);\n",
              "    }\n",
              "    30% {\n",
              "      border-color: transparent;\n",
              "      border-left-color: var(--fill-color);\n",
              "      border-top-color: var(--fill-color);\n",
              "      border-right-color: var(--fill-color);\n",
              "    }\n",
              "    40% {\n",
              "      border-color: transparent;\n",
              "      border-right-color: var(--fill-color);\n",
              "      border-top-color: var(--fill-color);\n",
              "    }\n",
              "    60% {\n",
              "      border-color: transparent;\n",
              "      border-right-color: var(--fill-color);\n",
              "    }\n",
              "    80% {\n",
              "      border-color: transparent;\n",
              "      border-right-color: var(--fill-color);\n",
              "      border-bottom-color: var(--fill-color);\n",
              "    }\n",
              "    90% {\n",
              "      border-color: transparent;\n",
              "      border-bottom-color: var(--fill-color);\n",
              "    }\n",
              "  }\n",
              "</style>\n",
              "\n",
              "  <script>\n",
              "    async function quickchart(key) {\n",
              "      const quickchartButtonEl =\n",
              "        document.querySelector('#' + key + ' button');\n",
              "      quickchartButtonEl.disabled = true;  // To prevent multiple clicks.\n",
              "      quickchartButtonEl.classList.add('colab-df-spinner');\n",
              "      try {\n",
              "        const charts = await google.colab.kernel.invokeFunction(\n",
              "            'suggestCharts', [key], {});\n",
              "      } catch (error) {\n",
              "        console.error('Error during call to suggestCharts:', error);\n",
              "      }\n",
              "      quickchartButtonEl.classList.remove('colab-df-spinner');\n",
              "      quickchartButtonEl.classList.add('colab-df-quickchart-complete');\n",
              "    }\n",
              "    (() => {\n",
              "      let quickchartButtonEl =\n",
              "        document.querySelector('#df-61078309-a940-46e0-a19a-fd706f788640 button');\n",
              "      quickchartButtonEl.style.display =\n",
              "        google.colab.kernel.accessAllowed ? 'block' : 'none';\n",
              "    })();\n",
              "  </script>\n",
              "</div>\n",
              "    </div>\n",
              "  </div>\n"
            ]
          },
          "metadata": {},
          "execution_count": 44
        }
      ],
      "source": [
        "aovdata = pd.read_csv('/content/drive/MyDrive/AOVData.csv')\n",
        "aovdata.head()"
      ]
    },
    {
      "cell_type": "markdown",
      "metadata": {
        "id": "Cr_N3sAeoqeO"
      },
      "source": [
        "Here, co_emissions is the response and fuel_type is the factor."
      ]
    },
    {
      "cell_type": "code",
      "execution_count": 45,
      "metadata": {
        "colab": {
          "base_uri": "https://localhost:8080/"
        },
        "id": "1zyATPm47v6N",
        "outputId": "b073ae55-3e6d-4ad7-ed86-bbe0b12d88dd"
      },
      "outputs": [
        {
          "output_type": "execute_result",
          "data": {
            "text/plain": [
              "Petrol    179\n",
              "LPG       170\n",
              "E85       161\n",
              "Name: fuel_type, dtype: int64"
            ]
          },
          "metadata": {},
          "execution_count": 45
        }
      ],
      "source": [
        "# get the levels of factor fuel_type\n",
        "aovdata['fuel_type'].value_counts()"
      ]
    },
    {
      "cell_type": "markdown",
      "metadata": {
        "id": "j63R8Uh78C-w"
      },
      "source": [
        "### Let's write the null and alternative hypothesis\n",
        "\n",
        "Let $\\mu_1, \\mu_2, \\mu_3$ be the means of carbon dioxide emissions for fuel type E85, LPG and Petrol respectively.\n",
        "\n",
        "We will test the null hypothesis\n",
        "\n",
        ">$H_0: \\mu_1 = \\mu_2 = \\mu_3$\n",
        "\n",
        "against the alternative hypothesis\n",
        "\n",
        ">$H_a: $ At least one carbon emission level is different from the rest.\n"
      ]
    },
    {
      "cell_type": "code",
      "execution_count": 46,
      "metadata": {
        "colab": {
          "base_uri": "https://localhost:8080/",
          "height": 653
        },
        "id": "WE2FRb1a9Gxs",
        "outputId": "b3d58d15-2fd0-43d4-aad3-9f6e72dd2213"
      },
      "outputs": [
        {
          "output_type": "stream",
          "name": "stdout",
          "text": [
            "fuel_type\n",
            "E85       338.124534\n",
            "LPG       363.744412\n",
            "Petrol    371.722961\n",
            "Name: co_emissions, dtype: float64\n"
          ]
        },
        {
          "output_type": "display_data",
          "data": {
            "text/plain": [
              "<Figure size 600x600 with 1 Axes>"
            ],
            "image/png": "[encoded data removed]"
          },
          "metadata": {}
        }
      ],
      "source": [
        "# mean of carbon emission at different levels of the fuel_type factor\n",
        "print(aovdata.groupby(\"fuel_type\")[\"co_emissions\"].mean())\n",
        "\n",
        "# draw the boxplot for visualization\n",
        "fig, ax = plt.subplots(figsize = (6,6))\n",
        "a = sns.boxplot(x= \"fuel_type\", y = 'co_emissions' , data = aovdata, hue = 'fuel_type')\n",
        "a.set_title(\"Carbon Emission w.r.t. Fuel type (3 levels)\", fontsize=15)\n",
        "plt.show()"
      ]
    },
    {
      "cell_type": "markdown",
      "metadata": {
        "id": "qb-sMEm2WtHf"
      },
      "source": [
        "Now, the normality and equality of variance assumptions need to be checked.\n",
        "\n",
        "* For testing of normality, Shapiro-Wilk’s test is applied to the response variable.\n",
        "\n",
        "* For equality of varaince, Levene test is applied to the response variable."
      ]
    },
    {
      "cell_type": "markdown",
      "metadata": {
        "id": "_pFdvUuGC6qu"
      },
      "source": [
        "### Shapiro-Wilk’s test\n",
        "\n",
        "We will test the null hypothesis\n",
        "\n",
        ">$H_0:$ Carbon emission follows a normal distribution against\n",
        "\n",
        "against the alternative hypothesis\n",
        "\n",
        ">$H_a:$ Carbon emission does not follow a normal distribution"
      ]
    },
    {
      "cell_type": "code",
      "execution_count": 47,
      "metadata": {
        "colab": {
          "base_uri": "https://localhost:8080/"
        },
        "id": "yHZdbI6hClTY",
        "outputId": "e4fc43cd-10ec-4348-b350-6088165f67d0"
      },
      "outputs": [
        {
          "output_type": "stream",
          "name": "stdout",
          "text": [
            "The p-value is 0.49750789999961853\n"
          ]
        }
      ],
      "source": [
        "# Assumption 1: Normality\n",
        "# import the required function\n",
        "from scipy import stats\n",
        "\n",
        "# find the p-value\n",
        "w, p_value = stats.shapiro(aovdata['co_emissions'])\n",
        "print('The p-value is', p_value)"
      ]
    },
    {
      "cell_type": "markdown",
      "metadata": {
        "id": "h1-_8Mi2EYIU"
      },
      "source": [
        "Since p-value of the test is very large, we fail to reject the null hypothesis that the response follows the normal distribution."
      ]
    },
    {
      "cell_type": "markdown",
      "metadata": {
        "id": "RN7l8dkREpFu"
      },
      "source": [
        "### Levene’s test\n",
        "\n",
        "We will test the null hypothesis\n",
        "\n",
        ">$H_0$: All the population variances are equal\n",
        "\n",
        "against the alternative hypothesis\n",
        "\n",
        ">$H_a$: At least one variance is different from the rest"
      ]
    },
    {
      "cell_type": "code",
      "execution_count": 48,
      "metadata": {
        "colab": {
          "base_uri": "https://localhost:8080/"
        },
        "id": "Jj-jsFGTFKtI",
        "outputId": "dc2cdd8e-47c8-45e7-ca98-66cd567a55c1"
      },
      "outputs": [
        {
          "output_type": "stream",
          "name": "stdout",
          "text": [
            "The p-value is 0.19437768490117\n"
          ]
        }
      ],
      "source": [
        "#Assumption 2: Homogeneity of Variance\n",
        "#import the required function\n",
        "from scipy.stats import levene\n",
        "statistic, p_value = levene( aovdata['co_emissions'][aovdata['fuel_type']==\"Petrol\"],\n",
        "                                   aovdata['co_emissions'][aovdata['fuel_type']==\"E85\"],\n",
        "                                   aovdata['co_emissions'][aovdata['fuel_type']==\"LPG\"])\n",
        "# find the p-value\n",
        "print('The p-value is', p_value)"
      ]
    },
    {
      "cell_type": "markdown",
      "metadata": {
        "id": "v6NjQ3iCF7tj"
      },
      "source": [
        "Since the p-value is large, we fail to reject the null hypothesis of homogeneity of variances."
      ]
    },
    {
      "cell_type": "markdown",
      "metadata": {
        "id": "kvMMknJDq_LU"
      },
      "source": [
        "### Let's test whether the assumptions are satisfied or not\n",
        "\n",
        "* The populations are normally distributed - Yes, the normality assumption is verified using the Shapiro-Wilk’s test.\n",
        "* Samples are independent simple random samples - Yes, we are informed that the collected sample is a simple random sample.\n",
        "* Population variances are equal - Yes, the homogeneity of variance assumption is verified using the Levene's test.\n",
        "\n"
      ]
    },
    {
      "cell_type": "markdown",
      "metadata": {
        "id": "mXyl5ApFr6zU"
      },
      "source": [
        "### Let's find the p-value"
      ]
    },
    {
      "cell_type": "code",
      "execution_count": 49,
      "metadata": {
        "colab": {
          "base_uri": "https://localhost:8080/"
        },
        "id": "HRjKGT13ryta",
        "outputId": "da5fc851-7027-4a54-8650-bb29de880a19"
      },
      "outputs": [
        {
          "output_type": "stream",
          "name": "stdout",
          "text": [
            "The p-value is 8.274439764368132e-06\n"
          ]
        }
      ],
      "source": [
        "#import the required function\n",
        "from scipy.stats import f_oneway\n",
        "\n",
        "# perform one-way anova test\n",
        "test_stat, p_value = f_oneway(aovdata.loc[aovdata['fuel_type'] == 'Petrol', 'co_emissions'],\n",
        "                              aovdata.loc[aovdata['fuel_type'] == 'E85', 'co_emissions'],\n",
        "                              aovdata.loc[aovdata['fuel_type'] == 'LPG', 'co_emissions'])\n",
        "print('The p-value is ' + str(p_value))"
      ]
    },
    {
      "cell_type": "markdown",
      "metadata": {
        "id": "m4Zat_fyvV3j"
      },
      "source": [
        "### Insight\n",
        "As the p-value is much less than the significance level, we can reject the null hypothesis. Hence, we do have enough statistical significance to conclude that  at least one carbon emission level is different from the rest at 5% significance level.\n",
        "\n",
        "However, we don't know which mean is different from the rest or whether all pairs of means are different. Multiple comparison tests are used to test the differences between all pairs of means."
      ]
    },
    {
      "cell_type": "markdown",
      "metadata": {
        "id": "lb7fV6waiIb8"
      },
      "source": [
        "### Multiple Comparison test(Tukey HSD)"
      ]
    },
    {
      "cell_type": "markdown",
      "metadata": {
        "id": "1PnXme1Ru56q"
      },
      "source": [
        "\n",
        "In order to identify for which fuel type mean carbon emission is different from other groups, the null hypothesis is\n",
        "\n",
        "  > $𝐻_0: 𝜇_1=𝜇_2 \\text{ and } 𝜇_1=𝜇_3 \\text{ and } 𝜇_2=𝜇_3$\n",
        "\n",
        "against the alternative hypothesis\n",
        "\n",
        " > $𝐻_a: 𝜇_1\\neq𝜇_2 \\text{ or } 𝜇_1\\neq𝜇_3 \\text{ or } 𝜇_2\\neq𝜇_3$"
      ]
    },
    {
      "cell_type": "code",
      "execution_count": 50,
      "metadata": {
        "colab": {
          "base_uri": "https://localhost:8080/"
        },
        "id": "3JVAnh86u56q",
        "outputId": "525d5813-90fd-4b6e-9c6a-381359002d4d"
      },
      "outputs": [
        {
          "output_type": "stream",
          "name": "stdout",
          "text": [
            "Multiple Comparison of Means - Tukey HSD, FWER=0.05 \n",
            "====================================================\n",
            "group1 group2 meandiff p-adj   lower   upper  reject\n",
            "----------------------------------------------------\n",
            "   E85    LPG  25.6199 0.0012  8.6843 42.5554   True\n",
            "   E85 Petrol  33.5984    0.0 16.8712 50.3256   True\n",
            "   LPG Petrol   7.9785 0.4916 -8.5139  24.471  False\n",
            "----------------------------------------------------\n"
          ]
        }
      ],
      "source": [
        "#import the required function\n",
        "from statsmodels.stats.multicomp import pairwise_tukeyhsd\n",
        "\n",
        "# perform multiple pairwise comparison (Tukey HSD)\n",
        "m_comp = pairwise_tukeyhsd(endog = aovdata['co_emissions'], groups = aovdata['fuel_type'], alpha = 0.05)\n",
        "print(m_comp)"
      ]
    },
    {
      "cell_type": "markdown",
      "metadata": {
        "id": "X7HqKLHmu56q"
      },
      "source": [
        "### Insight\n",
        "\n",
        "As the p-value for comparing the mean carbon emissions for the pair E85-LPG and E85-Petrol is less than the significance level, the null hypothesis of equality of all population means can be rejected.\n",
        "\n",
        "Thus, we can say that the mean carbon emission for Petrol and LPG is similar but emission for fuel type E85 is significantly different from LPG and Petrol."
      ]
    }
  ],
  "metadata": {
    "colab": {
      "provenance": [],
      "gpuType": "T4",
      "include_colab_link": true
    },
    "kernelspec": {
      "display_name": "Python 3",
      "name": "python3"
    },
    "language_info": {
      "codemirror_mode": {
        "name": "ipython",
        "version": 3
      },
      "file_extension": ".py",
      "mimetype": "text/x-python",
      "name": "python",
      "nbconvert_exporter": "python",
      "pygments_lexer": "ipython3",
      "version": "3.8.5"
    },
    "accelerator": "GPU"
  },
  "nbformat": 4,
  "nbformat_minor": 0
}