{
  "cells": [
    {
      "cell_type": "markdown",
      "metadata": {
        "id": "view-in-github",
        "colab_type": "text"
      },
      "source": [
        "<a href=\"https://colab.research.google.com/github/e-abtahi/Statistical_Analysis_Portfolio/blob/main/Application_Case_Hypothesis_Testing/Hypothesis_Testing.ipynb\" target=\"_parent\"><img src=\"https://colab.research.google.com/assets/colab-badge.svg\" alt=\"Open In Colab\"/></a>"
      ]
    },
    {
      "cell_type": "markdown",
      "metadata": {
        "id": "oiCrAFr5zu54"
      },
      "source": [
        "### Importing the necessary libraries"
      ]
    },
    {
      "cell_type": "code",
      "execution_count": 1,
      "metadata": {
        "id": "QO4BH1Iwzu56"
      },
      "outputs": [],
      "source": [
        "import numpy as np\n",
        "import pandas as pd\n",
        "import matplotlib.pyplot as plt\n",
        "import scipy.stats as stats"
      ]
    },
    {
      "cell_type": "markdown",
      "metadata": {
        "id": "PXXTvbNIzu57"
      },
      "source": [
        "# 1. You are a manager of a Chinese restaurant. You want to determine whether the mean waiting time to place an order has changed in the past month from its previous population mean value of 4.5 minutes. State the null and alternative hypotheses."
      ]
    },
    {
      "cell_type": "markdown",
      "metadata": {
        "id": "DTpEWjcizu57"
      },
      "source": [
        "The null hypothesis is that the mean waiting time has not changed from its previous value of 4.5 minutes. This is stated\n",
        "as\n",
        "\n",
        "$H_0$: µ = 4.5\n",
        "\n",
        "The alternative hypothesis is that the mean waiting time has been changed from its previous value of 4.5 minutes. This is stated as\n",
        "\n",
        "$H_a$: µ $\\neq$ 4.5\n"
      ]
    },
    {
      "cell_type": "markdown",
      "metadata": {
        "id": "RtPNNSixzu58"
      },
      "source": [
        "# 2. What is the p-value if, in a two-tailed hypothesis test, z-stat = +2.00?"
      ]
    },
    {
      "cell_type": "code",
      "execution_count": 2,
      "metadata": {
        "colab": {
          "base_uri": "https://localhost:8080/"
        },
        "id": "oe93KZTNzu58",
        "outputId": "4793303c-30b0-4583-e5d2-59e21a6ecebd"
      },
      "outputs": [
        {
          "output_type": "execute_result",
          "data": {
            "text/plain": [
              "0.02275013194817921"
            ]
          },
          "metadata": {},
          "execution_count": 2
        }
      ],
      "source": [
        "# Calculating the one-tailed p-value for z-stat=2\n",
        "p_val = 1 - stats.norm.cdf(2)\n",
        "p_val"
      ]
    },
    {
      "cell_type": "code",
      "execution_count": 3,
      "metadata": {
        "colab": {
          "base_uri": "https://localhost:8080/"
        },
        "id": "XihlVhrTzu58",
        "outputId": "864a3954-5a4f-41c6-df23-dcf080d4b05e"
      },
      "outputs": [
        {
          "output_type": "execute_result",
          "data": {
            "text/plain": [
              "0.04550026389635842"
            ]
          },
          "metadata": {},
          "execution_count": 3
        }
      ],
      "source": [
        "#since it is a two tailed test\n",
        "p_val*2"
      ]
    },
    {
      "cell_type": "markdown",
      "metadata": {
        "id": "wj66Xvl8zu59"
      },
      "source": [
        "In a two-tailed test, the p-value for the z-stat 2 is = 0.0455"
      ]
    },
    {
      "cell_type": "markdown",
      "metadata": {
        "id": "DjK0_L9Gzu59"
      },
      "source": [
        "# 3. Samy, Product Manager of K2 Jeans, wants to launch a product line into a new market area. A Survey of a random sample of 400 households in that market showed a mean income per household of 30000 rupees. The standard deviation based on an earlier pilot study of households is 8000 rupees. Samy strongly believes the product line will be adequately profitable only in markets where the mean household income is greater than 29000 rupees. Samy wants our help in deciding whether the product line should be introduced in the new market. Perform statistical analysis and based on that draw a conclusion."
      ]
    },
    {
      "cell_type": "markdown",
      "metadata": {
        "id": "sTrDxwrPzu59"
      },
      "source": [
        "Null Hypothesis: Mean income of the household is less than or equal to 29000\n",
        "\n",
        "$H_0$: µ <= 29000\n",
        "\n",
        "Alternate Hypothesis: Mean income of the household is greater than 29000\n",
        "\n",
        "$H_a$: µ > 29000"
      ]
    },
    {
      "cell_type": "markdown",
      "metadata": {
        "id": "FCSGdrLOzu59"
      },
      "source": [
        "x̅= 30000\n",
        "\n",
        "μ = 29000\n",
        "\n",
        "σ= 8000\n",
        "\n",
        "n = 400\n",
        "\n",
        "𝑍=(x̅ − μ)/ (σ/(sqrt(n)) = (30000 – 29000) / (8000/sqrt(400))= 2.5"
      ]
    },
    {
      "cell_type": "code",
      "execution_count": 4,
      "metadata": {
        "colab": {
          "base_uri": "https://localhost:8080/"
        },
        "id": "SPTDMQpvzu59",
        "outputId": "c0dd07d8-3da9-41d7-f550-76fa4c75914f"
      },
      "outputs": [
        {
          "output_type": "execute_result",
          "data": {
            "text/plain": [
              "0.006209665325776159"
            ]
          },
          "metadata": {},
          "execution_count": 4
        }
      ],
      "source": [
        "# Calculating the p-value for Zstat=2.5\n",
        "1 - stats.norm.cdf(2.5)"
      ]
    },
    {
      "cell_type": "markdown",
      "metadata": {
        "id": "pcBaZWftzu5-"
      },
      "source": [
        "Interpretation of p-value:\n",
        "If the p-value is less than α(significance level), reject the null hypothesis.\n",
        "\n",
        "Since α is not specified, we assume it to be 0.05.\n",
        "\n",
        "Since p-value (0.006) < α (0.05), we reject the null hypothesis and conclude that the mean income of the household is greater than 29000"
      ]
    },
    {
      "cell_type": "markdown",
      "metadata": {
        "_cell_guid": "9b9566bb-e9b5-4b48-9b45-0194167d2b2b",
        "_uuid": "6256e72b89e829fc8583163418120a3e50aaa156",
        "id": "euOWOovJE43G"
      },
      "source": [
        "# 4. One-sample t-test\n",
        "\n",
        "The mass of a sample of N = 20 acorns from a forest subjected to acid rain from a coal power plant are m = [8.8, 6.6, 9.5, 11.2, 10.2, 7.4, 8.0, 9.6, 9.9, 9.0, 7.6, 7.4, 10.4, 11.1, 8.5, 10.0, 11.6, 10.7, 10.3, and 7.0 g. ]\n",
        "\n",
        "Is this sample provide enough evidence (alpha = 0.05) to say that the average mass of all acorns is different from 10 g?"
      ]
    },
    {
      "cell_type": "markdown",
      "metadata": {
        "id": "I5t40ABRzu5-"
      },
      "source": [
        "**a) Formulate the null and alternate hypothesis**\n",
        "\n",
        "$H_0$:  μ = 10, The average mass of the acorns is 10 g\n",
        "\n",
        "$H_a$:  μ $\\neq$ 10, The average mass of the acorns is different from 10 g"
      ]
    },
    {
      "cell_type": "markdown",
      "metadata": {
        "id": "QQmqDTtkzu5-"
      },
      "source": [
        "**b) Calculate the test-statistic and based on the p-value provide a conclusion.**"
      ]
    },
    {
      "cell_type": "code",
      "execution_count": 5,
      "metadata": {
        "_cell_guid": "4148d56b-fa5a-4e96-b67c-1e57bccf6417",
        "_uuid": "763af9076a0089015fc6d5d85c17e344b50b5a48",
        "colab": {
          "base_uri": "https://localhost:8080/"
        },
        "id": "cmPwcZrXE43G",
        "outputId": "00b66982-a79f-4eb9-80cc-d7bb815ee668",
        "scrolled": true
      },
      "outputs": [
        {
          "output_type": "stream",
          "name": "stdout",
          "text": [
            "tstats =  -2.2491611580763973 , p-value =  0.03655562279112415\n"
          ]
        }
      ],
      "source": [
        "x = [8.8, 6.6, 9.5, 11.2, 10.2, 7.4, 8.0, 9.6, 9.9, 9.0,\n",
        "     7.6, 7.4, 10.4, 11.1, 8.5, 10.0, 11.6, 10.7, 10.3, 7.0]\n",
        "\n",
        "mu = 10\n",
        "\n",
        "t, p = stats.ttest_1samp(x, popmean = mu)\n",
        "print(\"tstats = \", t, \", p-value = \", p)"
      ]
    },
    {
      "cell_type": "markdown",
      "metadata": {
        "_cell_guid": "b2894e2f-f2ab-4004-af72-0cbaa592d286",
        "_uuid": "662933c050f5d099e89102fa8779f69d1f3ac8b2",
        "id": "72xPNgoXE43J"
      },
      "source": [
        "Since p-value(~0.04) < 0.05 (alpha), we reject the null hypothesis and conclude that the average mass of the acorns is different from 10 g."
      ]
    },
    {
      "cell_type": "markdown",
      "metadata": {
        "_cell_guid": "fd17fd23-4f92-403e-aada-0b61433b22e9",
        "_uuid": "948240552a9daac38010e7ec652d02adbdfab6f7",
        "id": "ulAnmKcwE43M"
      },
      "source": [
        "# 5. Independent (unpaired) two-sample t-test\n",
        "\n",
        "The mass of N<sub>1</sub> = 20 acorns from oak trees up wind from a coal power plant and N<sub>2</sub> = 30 acorns from oak trees down wind from the same coal power plant are measured. Is the mass of acorns from trees down wind different from the ones from up wind at a significance level of 0.05? The sample sizes are not equal but we will assume that the population variance of sample 1 and sample 2 are equal.\n",
        "\n",
        "#### sample up wind:\n",
        "x1 = [10.8, 10.0, 8.2, 9.9, 11.6, 10.1, 11.3, 10.3, 10.7, 9.7,\n",
        "      7.8, 9.6, 9.7, 11.6, 10.3, 9.8, 12.3, 11.0, 10.4, 10.4]\n",
        "\n",
        "#### sample down wind:\n",
        "x2 = [7.8, 7.5, 9.5, 11.7, 8.1, 8.8, 8.8, 7.7, 9.7, 7.0,\n",
        "      9.0, 9.7, 11.3, 8.7, 8.8, 10.9, 10.3, 9.6, 8.4, 6.6,\n",
        "      7.2, 7.6, 11.5, 6.6, 8.6, 10.5, 8.4, 8.5, 10.2, 9.2]\n"
      ]
    },
    {
      "cell_type": "markdown",
      "metadata": {
        "id": "sOuOU197zu5_"
      },
      "source": [
        "**a) Formulate the null and alternate hypothesis.**"
      ]
    },
    {
      "cell_type": "markdown",
      "metadata": {
        "id": "w1xoHT6Szu5_"
      },
      "source": [
        "$H_0$: $\\mu_1 = \\mu_2$, There is no difference between the average mass of acorns from down wind and up wind trees\n",
        "\n",
        "$H_a$: $\\mu1 \\neq \\mu2$, There is no difference between the average mass of acorns from down wind and up wind trees\n"
      ]
    },
    {
      "cell_type": "markdown",
      "metadata": {
        "id": "qGzUAB1Pzu5_"
      },
      "source": [
        "**b) Calculate the test-statistic and based on the p-value provide a conclusion.**"
      ]
    },
    {
      "cell_type": "code",
      "execution_count": 6,
      "metadata": {
        "_cell_guid": "f2b15c98-92e0-4f2b-90e1-beb62cc3ae03",
        "_uuid": "fa96a81f7f2ca3b6cb195dd0e0c087b8d30b348b",
        "colab": {
          "base_uri": "https://localhost:8080/"
        },
        "id": "uS5i2yATE43M",
        "outputId": "e9af542f-4ab4-431a-ee2b-cbbaed2012f9"
      },
      "outputs": [
        {
          "output_type": "stream",
          "name": "stdout",
          "text": [
            "tstats =  3.5981947686898033 , p_value =  0.0007560337478801464\n"
          ]
        }
      ],
      "source": [
        "# sample up wind\n",
        "x1 = [10.8, 10.0, 8.2, 9.9, 11.6, 10.1, 11.3, 10.3, 10.7, 9.7,\n",
        "      7.8, 9.6, 9.7, 11.6, 10.3, 9.8, 12.3, 11.0, 10.4, 10.4]\n",
        "\n",
        "# sample down wind\n",
        "x2 = [7.8, 7.5, 9.5, 11.7, 8.1, 8.8, 8.8, 7.7, 9.7, 7.0,\n",
        "      9.0, 9.7, 11.3, 8.7, 8.8, 10.9, 10.3, 9.6, 8.4, 6.6,\n",
        "      7.2, 7.6, 11.5, 6.6, 8.6, 10.5, 8.4, 8.5, 10.2, 9.2]\n",
        "\n",
        "\n",
        "t, p_value = stats.ttest_ind(x1, x2)\n",
        "print(\"tstats = \",t, \", p_value = \", p_value)"
      ]
    },
    {
      "cell_type": "markdown",
      "metadata": {
        "id": "S-fzFM6Vzu5_"
      },
      "source": [
        "Since p-value(0.0007) < 0.05 (alpha), we reject the null hypothesis and conclude that there is a difference in the two means."
      ]
    },
    {
      "cell_type": "markdown",
      "metadata": {
        "_cell_guid": "9b5d97b5-9c0c-4a45-b333-36d3bdeecdcc",
        "_uuid": "8520e337989f942369ad861e6aebece17394efe3",
        "collapsed": true,
        "id": "1qEyYs3GE43P"
      },
      "source": [
        "# 6. Paired samples t-test\n",
        "\n",
        "The average mass of acorns from the same N = 30 trees downwind of a power plant is measured before (x<sub>1</sub>) and after (x<sub>2</sub>) the power plant converts from burning coal to burning natural gas. Does the mass of the acorns change after the conversion from coal to natural gas at a significance level of 0.05?\n",
        "\n",
        "### sample before conversion to natural gas\n",
        "x1 = np.array([10.8, 6.4, 8.3, 7.6, 11.4, 9.9, 10.6, 8.7, 8.1, 10.9,\n",
        "      11.0, 11.8, 7.3, 9.6, 9.3, 9.9, 9.0, 9.5, 10.6, 10.3,\n",
        "      8.8, 12.3, 8.9, 10.5, 11.6, 7.6, 8.9, 10.4, 10.2, 8.8])\n",
        "\n",
        "### sample after conversion to natural gas\n",
        "x2 = np.array([10.1, 6.9, 8.6, 8.8, 12.1, 11.3, 12.4, 9.3, 9.3, 10.8,\n",
        "      12.4, 11.5, 7.4, 10.0, 11.1, 10.6, 9.4, 9.5, 10.0, 10.0,\n",
        "      9.7, 13.5, 9.6, 11.6, 11.7, 7.9, 8.6, 10.8, 9.5, 9.6])\n",
        "\n"
      ]
    },
    {
      "cell_type": "markdown",
      "metadata": {
        "id": "Ufh6z1mDzu6A"
      },
      "source": [
        "**a) Formulate the null and alternate hypothesis.**\n",
        "\n",
        "* H<sub>0</sub>: $\\mu_1 = \\mu_2$ (The average mass of the acorns after and before conversion is not different)\n",
        "* H<sub>1</sub>: $\\mu_1 \\neq \\mu_2$ (The average mass of the acorns after and before conversion is different)"
      ]
    },
    {
      "cell_type": "markdown",
      "metadata": {
        "id": "6o405XKZzu6A"
      },
      "source": [
        "**b) Calculate the test-statistic and based on the p-value provide a conclusion.**"
      ]
    },
    {
      "cell_type": "code",
      "execution_count": 7,
      "metadata": {
        "_cell_guid": "d5690fde-4d81-4f50-93c0-cad681140c71",
        "_uuid": "a256d0a2cc6426f642854fc66a63dd146d37bcf7",
        "colab": {
          "base_uri": "https://localhost:8080/"
        },
        "id": "sn_qG1AbE43P",
        "outputId": "01f299b8-e0c8-4dee-d081-661350a39dd9"
      },
      "outputs": [
        {
          "output_type": "stream",
          "name": "stdout",
          "text": [
            "tstats =  -3.905439081326491 , p-value =  0.0005168689824684378\n"
          ]
        }
      ],
      "source": [
        "# sample before conversion to natural gas\n",
        "x1 = np.array([10.8, 6.4, 8.3, 7.6, 11.4, 9.9, 10.6, 8.7, 8.1, 10.9,\n",
        "      11.0, 11.8, 7.3, 9.6, 9.3, 9.9, 9.0, 9.5, 10.6, 10.3,\n",
        "      8.8, 12.3, 8.9, 10.5, 11.6, 7.6, 8.9, 10.4, 10.2, 8.8])\n",
        "# sample after conversion to natural gas\n",
        "x2 = np.array([10.1, 6.9, 8.6, 8.8, 12.1, 11.3, 12.4, 9.3, 9.3, 10.8,\n",
        "      12.4, 11.5, 7.4, 10.0, 11.1, 10.6, 9.4, 9.5, 10.0, 10.0,\n",
        "      9.7, 13.5, 9.6, 11.6, 11.7, 7.9, 8.6, 10.8, 9.5, 9.6])\n",
        "\n",
        "\n",
        "t, p = stats.ttest_rel(x1, x2)\n",
        "print(\"tstats = \", t, \", p-value = \", p)"
      ]
    },
    {
      "cell_type": "markdown",
      "metadata": {
        "id": "q9sT-ZHYzu6A"
      },
      "source": [
        "Since p-value(0.0005) < 0.05 (alpha), we reject the null hypothesis and conclude that there is a significant difference between the means of the acorns before and after the power plant converts from burning coal to burning natural gas.\n"
      ]
    }
  ],
  "metadata": {
    "kernelspec": {
      "display_name": "Python 3",
      "language": "python",
      "name": "python3"
    },
    "language_info": {
      "codemirror_mode": {
        "name": "ipython",
        "version": 3
      },
      "file_extension": ".py",
      "mimetype": "text/x-python",
      "name": "python",
      "nbconvert_exporter": "python",
      "pygments_lexer": "ipython3",
      "version": "3.8.5"
    },
    "toc": {
      "base_numbering": 1,
      "nav_menu": {},
      "number_sections": true,
      "sideBar": true,
      "skip_h1_title": false,
      "title_cell": "Table of Contents",
      "title_sidebar": "Contents",
      "toc_cell": false,
      "toc_position": {},
      "toc_section_display": true,
      "toc_window_display": false
    },
    "colab": {
      "provenance": [],
      "include_colab_link": true
    }
  },
  "nbformat": 4,
  "nbformat_minor": 0
}